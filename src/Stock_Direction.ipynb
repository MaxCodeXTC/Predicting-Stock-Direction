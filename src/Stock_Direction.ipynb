{
  "nbformat": 4,
  "nbformat_minor": 0,
  "metadata": {
    "colab": {
      "name": "Stock-Direction.ipynb",
      "provenance": [],
      "include_colab_link": true
    },
    "kernelspec": {
      "name": "python3",
      "display_name": "Python 3"
    },
    "accelerator": "GPU"
  },
  "cells": [
    {
      "cell_type": "markdown",
      "metadata": {
        "id": "view-in-github",
        "colab_type": "text"
      },
      "source": [
        "<a href=\"https://colab.research.google.com/github/pranjalchaubey/Predicting-Stock-Direction/blob/master/src/Stock_Direction.ipynb\" target=\"_parent\"><img src=\"https://colab.research.google.com/assets/colab-badge.svg\" alt=\"Open In Colab\"/></a>"
      ]
    },
    {
      "cell_type": "markdown",
      "metadata": {
        "id": "MrA9m16Wv5Hq",
        "colab_type": "text"
      },
      "source": [
        "# Stock Direction\n",
        "In this notebook we are going to use Random Forests to predict the direction  \n",
        "of stocks for the next trading day.  \n",
        "In more technical terms, we are going to try and predict the _**Momentum**_  \n",
        "of the stocks.  \n",
        "Based on the momentum, we are going to give the following signals to the user  \n",
        "1. Buy (_+ve momentum_)\n",
        "2. Sell (_-ve momentum_)\n",
        "3. Hold (_neutral_)  \n",
        "\n",
        "This system will work on the daily closing prices and will generate the signals by predicting the momentum for the next trading day. "
      ]
    },
    {
      "cell_type": "markdown",
      "metadata": {
        "id": "Rm2r2nZLyPpP",
        "colab_type": "text"
      },
      "source": [
        "##Setup The Colab Environment \n",
        "Install and Import the required libraries.  "
      ]
    },
    {
      "cell_type": "code",
      "metadata": {
        "id": "HHPgN_JWRont",
        "colab_type": "code",
        "colab": {}
      },
      "source": [
        "# Debug Flag\n",
        "_GLOBAL_DEBUG_ = True"
      ],
      "execution_count": 0,
      "outputs": []
    },
    {
      "cell_type": "code",
      "metadata": {
        "id": "nPIEFSuJz3_Z",
        "colab_type": "code",
        "outputId": "2ea942f3-f049-426c-c689-a0b63cd039aa",
        "colab": {
          "base_uri": "https://localhost:8080/",
          "height": 384
        }
      },
      "source": [
        "# Install the yFinance library \n",
        "!pip install yfinance "
      ],
      "execution_count": 2,
      "outputs": [
        {
          "output_type": "stream",
          "text": [
            "Collecting yfinance\n",
            "  Downloading https://files.pythonhosted.org/packages/53/0e/40387099824c98be22cd7e33a620e9d38b61998b031f0b33f0b9959717d2/yfinance-0.1.45.tar.gz\n",
            "Requirement already satisfied: pandas>=0.24 in /usr/local/lib/python3.6/dist-packages (from yfinance) (0.24.2)\n",
            "Requirement already satisfied: numpy>=1.15 in /usr/local/lib/python3.6/dist-packages (from yfinance) (1.16.5)\n",
            "Requirement already satisfied: requests>=2.20 in /usr/local/lib/python3.6/dist-packages (from yfinance) (2.21.0)\n",
            "Requirement already satisfied: multitasking>=0.0.7 in /usr/local/lib/python3.6/dist-packages (from yfinance) (0.0.9)\n",
            "Requirement already satisfied: python-dateutil>=2.5.0 in /usr/local/lib/python3.6/dist-packages (from pandas>=0.24->yfinance) (2.5.3)\n",
            "Requirement already satisfied: pytz>=2011k in /usr/local/lib/python3.6/dist-packages (from pandas>=0.24->yfinance) (2018.9)\n",
            "Requirement already satisfied: chardet<3.1.0,>=3.0.2 in /usr/local/lib/python3.6/dist-packages (from requests>=2.20->yfinance) (3.0.4)\n",
            "Requirement already satisfied: idna<2.9,>=2.5 in /usr/local/lib/python3.6/dist-packages (from requests>=2.20->yfinance) (2.8)\n",
            "Requirement already satisfied: certifi>=2017.4.17 in /usr/local/lib/python3.6/dist-packages (from requests>=2.20->yfinance) (2019.6.16)\n",
            "Requirement already satisfied: urllib3<1.25,>=1.21.1 in /usr/local/lib/python3.6/dist-packages (from requests>=2.20->yfinance) (1.24.3)\n",
            "Requirement already satisfied: six>=1.5 in /usr/local/lib/python3.6/dist-packages (from python-dateutil>=2.5.0->pandas>=0.24->yfinance) (1.12.0)\n",
            "Building wheels for collected packages: yfinance\n",
            "  Building wheel for yfinance (setup.py) ... \u001b[?25l\u001b[?25hdone\n",
            "  Created wheel for yfinance: filename=yfinance-0.1.45-cp36-none-any.whl size=14652 sha256=851469314c4a23d274bd47dd3ab8f2f36e265a5fa702321f6317f327f2981ff8\n",
            "  Stored in directory: /root/.cache/pip/wheels/0c/d1/df/aa9a7744a4ac353cc9a1f2c3aaea7c1f457fc49de4286f2d88\n",
            "Successfully built yfinance\n",
            "Installing collected packages: yfinance\n",
            "Successfully installed yfinance-0.1.45\n"
          ],
          "name": "stdout"
        }
      ]
    },
    {
      "cell_type": "code",
      "metadata": {
        "id": "wHORMgl6zxqJ",
        "colab_type": "code",
        "colab": {}
      },
      "source": [
        "# yFinance will help us fetch the data for our dataset\n",
        "import yfinance as yf"
      ],
      "execution_count": 0,
      "outputs": []
    },
    {
      "cell_type": "code",
      "metadata": {
        "id": "ALAkdXJVv0IL",
        "colab_type": "code",
        "colab": {}
      },
      "source": [
        "# Data Mining and plotting \n",
        "import numpy as np\n",
        "import pandas as pd\n",
        "import matplotlib.pyplot as plt\n",
        "import seaborn as sns"
      ],
      "execution_count": 0,
      "outputs": []
    },
    {
      "cell_type": "code",
      "metadata": {
        "id": "70KcLBXhy08M",
        "colab_type": "code",
        "colab": {}
      },
      "source": [
        "# Classifier \n",
        "from sklearn.ensemble import RandomForestClassifier\n",
        "from sklearn.linear_model import LogisticRegression"
      ],
      "execution_count": 0,
      "outputs": []
    },
    {
      "cell_type": "code",
      "metadata": {
        "id": "ujJcQHQTzV2a",
        "colab_type": "code",
        "colab": {}
      },
      "source": [
        "# Other Libraries\n",
        "from sklearn.model_selection import train_test_split\n",
        "from sklearn.metrics import confusion_matrix\n",
        "\n",
        "import os\n",
        "import sys\n",
        "import shutil\n",
        "# if in Google Colaboratory\n",
        "try:\n",
        "    from google.colab import drive\n",
        "except:\n",
        "    pass\n",
        "\n",
        "import warnings\n",
        "warnings.filterwarnings(\"ignore\")"
      ],
      "execution_count": 0,
      "outputs": []
    },
    {
      "cell_type": "code",
      "metadata": {
        "id": "-eXZSuMUzZ6I",
        "colab_type": "code",
        "colab": {}
      },
      "source": [
        "# Configure Pandas Display Options\n",
        "pd.set_option('display.max_rows', 500)\n",
        "pd.set_option('display.max_columns', 500)\n",
        "pd.set_option('display.width', 1000)"
      ],
      "execution_count": 0,
      "outputs": []
    },
    {
      "cell_type": "code",
      "metadata": {
        "id": "MMqMKQ6pzc8o",
        "colab_type": "code",
        "outputId": "adf70f9a-1937-4fa8-e6b0-d1d5299f32c0",
        "colab": {
          "base_uri": "https://localhost:8080/",
          "height": 347
        }
      },
      "source": [
        "# Since I am running this notebook on Colab, \n",
        "# Let's try and get some system information \n",
        "import platform\n",
        "print('System Processor: ', platform.processor(), '\\n')\n",
        "!nvidia-smi"
      ],
      "execution_count": 8,
      "outputs": [
        {
          "output_type": "stream",
          "text": [
            "System Processor:  x86_64 \n",
            "\n",
            "Mon Sep 30 12:39:47 2019       \n",
            "+-----------------------------------------------------------------------------+\n",
            "| NVIDIA-SMI 430.40       Driver Version: 418.67       CUDA Version: 10.1     |\n",
            "|-------------------------------+----------------------+----------------------+\n",
            "| GPU  Name        Persistence-M| Bus-Id        Disp.A | Volatile Uncorr. ECC |\n",
            "| Fan  Temp  Perf  Pwr:Usage/Cap|         Memory-Usage | GPU-Util  Compute M. |\n",
            "|===============================+======================+======================|\n",
            "|   0  Tesla K80           Off  | 00000000:00:04.0 Off |                    0 |\n",
            "| N/A   41C    P8    30W / 149W |      0MiB / 11441MiB |      0%      Default |\n",
            "+-------------------------------+----------------------+----------------------+\n",
            "                                                                               \n",
            "+-----------------------------------------------------------------------------+\n",
            "| Processes:                                                       GPU Memory |\n",
            "|  GPU       PID   Type   Process name                             Usage      |\n",
            "|=============================================================================|\n",
            "|  No running processes found                                                 |\n",
            "+-----------------------------------------------------------------------------+\n"
          ],
          "name": "stdout"
        }
      ]
    },
    {
      "cell_type": "markdown",
      "metadata": {
        "id": "gDkAce5w_LT4",
        "colab_type": "text"
      },
      "source": [
        "## Load the Data\n",
        "We will extract the 5 year history of 10 stocks chosen by the user. \n",
        "\n",
        "<br/>Here, we will take the following stocks as an example\n",
        "1. Facebook FB\n",
        "2. Apple AAPL\n",
        "3. Amazon AMZN\n",
        "4. Netflix NFLX\n",
        "5. Google GOOGL\n",
        "6. Starbucks SBUX\n",
        "7. Exxon Mobil XOM\n",
        "8. Johnson & Johnson JNJ\n",
        "9. Bank of America BAC\n",
        "10. General Motors GM\n",
        "\n",
        "<br/>In the actual application, stock selection will be done by the user. "
      ]
    },
    {
      "cell_type": "code",
      "metadata": {
        "id": "MO3eCg6TzeeR",
        "colab_type": "code",
        "colab": {}
      },
      "source": [
        "# List of stock tickers \n",
        "# this info will come from the user, perhaps in the form of a pickle file \n",
        "ticker_list = ['FB', 'AAPL', 'AMZN', 'NFLX', 'GOOGL', 'SBUX', 'XOM', 'JNJ',\\\n",
        "               'BAC', 'GM']"
      ],
      "execution_count": 0,
      "outputs": []
    },
    {
      "cell_type": "code",
      "metadata": {
        "id": "7nk95CIFIW9H",
        "colab_type": "code",
        "colab": {}
      },
      "source": [
        "def fetch_ticker_data(tickers): \n",
        "    \"\"\"\n",
        "    Fetch 5 years of historical data for the 'tickers', from Yahoo Finance.    \n",
        "\n",
        "    Parameters\n",
        "    ----------\n",
        "    tickers : List   \n",
        "        List of stocks chosen by the user.   \n",
        "        \n",
        "    Returns\n",
        "    -------\n",
        "    data : Dataframe \n",
        "        Pandas df with historical stock data time series. \n",
        "    \"\"\"\n",
        "    # Debug \n",
        "    _LOCAL_DEBUG_ = False\n",
        "\n",
        "    # Get the Data from Yahoo! Finance\n",
        "    data = yf.download(tickers, start=\"2017-01-01\", end=\"2017-09-07\")\n",
        "    if _GLOBAL_DEBUG_ and _LOCAL_DEBUG_:\n",
        "        display(data.head(20))\n",
        "\n",
        "    # Data is multi-indexed on the columns \n",
        "    # Make it multi-index on the rows, to make it \n",
        "    # fit for consumption by the RandomForestClassiffier\n",
        "    data = data.stack(1) \n",
        "    if _GLOBAL_DEBUG_ and _LOCAL_DEBUG_:\n",
        "        display(data.head(20))\n",
        "\n",
        "    # Drop all the columns except for Adj Close & Volume\n",
        "    data = data[['Adj Close', 'Volume']]\n",
        "    # Rename the column names \n",
        "    data.columns = ['close', 'volume']  \n",
        "    if _GLOBAL_DEBUG_ and _LOCAL_DEBUG_:\n",
        "        display(data.head(20))\n",
        "\n",
        "    return data"
      ],
      "execution_count": 0,
      "outputs": []
    },
    {
      "cell_type": "code",
      "metadata": {
        "id": "kPtLBV75SD08",
        "colab_type": "code",
        "outputId": "d0f83926-6e94-483d-f0da-b827e3db2052",
        "colab": {
          "base_uri": "https://localhost:8080/",
          "height": 35
        }
      },
      "source": [
        "# Go fetch! \n",
        "dataset = fetch_ticker_data(tickers=ticker_list)"
      ],
      "execution_count": 110,
      "outputs": [
        {
          "output_type": "stream",
          "text": [
            "[*********************100%***********************]  10 of 10 downloaded\n"
          ],
          "name": "stdout"
        }
      ]
    },
    {
      "cell_type": "markdown",
      "metadata": {
        "id": "8lwSmUWMplIb",
        "colab_type": "text"
      },
      "source": [
        "## Data Preprocessing\n",
        "Now that we have the data downloaded and neatly organized in a dataframe,  \n",
        "time to do some necessary preprocessing.  \n",
        "In particular, we are going to use the _log returns_ of the stocks to create a  \n",
        "target column, called `target`.  \n",
        "The target variable will be created using the following criteria  \n",
        "```\n",
        "  -1 = Sell = ret < -0.0015\n",
        "   0 = Hold = -0.0015 < ret < 0.0015 \n",
        "   1 = Buy  = ret > .0015\n",
        "```"
      ]
    },
    {
      "cell_type": "code",
      "metadata": {
        "id": "V4H28uqBYSjT",
        "colab_type": "code",
        "colab": {}
      },
      "source": [
        "def classify_return(ret):\n",
        "    \"\"\"\n",
        "    Classify the returns as -1, 0 or 1.\n",
        "    -1 = Sell = ret < -0.0015\n",
        "    0 = Hold = -0.0015 < ret < 0.0015 \n",
        "    1 = Buy  = ret > .0015\n",
        "\n",
        "    Parameters\n",
        "    ----------\n",
        "    ret : Float   \n",
        "        Stock return for the current day, d. \n",
        "        retd = log(retd) - log(ret(d-1))\n",
        "\n",
        "    Returns\n",
        "    -------\n",
        "    ret_category : Integer\n",
        "        Category of return, ret. \n",
        "        -1, 0 or 1. \n",
        "    \"\"\"\n",
        "    if ret < -0.0015: \n",
        "        ret_category = -1\n",
        "    elif -0.0015 < ret and ret < 0.0015:\n",
        "        ret_category = 0\n",
        "    elif ret > 0.0015:\n",
        "        ret_category = 1\n",
        "\n",
        "    return ret_category"
      ],
      "execution_count": 0,
      "outputs": []
    },
    {
      "cell_type": "code",
      "metadata": {
        "id": "ofeAWTqHr1tv",
        "colab_type": "code",
        "colab": {}
      },
      "source": [
        "def data_preprocess(dataset):\n",
        "    \"\"\"\n",
        "    Calculates log returns and creates the 'target' column.\n",
        "\n",
        "    Parameters\n",
        "    ----------\n",
        "    dataset : Pandas Dataframe\n",
        "    Dataframe containing price, volume and other \n",
        "    information of the chosen stocks. \n",
        "\n",
        "    Returns\n",
        "    -------\n",
        "    Processed dataframe with two additional columns,\n",
        "    'returns' and 'target'. \n",
        "    returns = log returns of prices \n",
        "    target = target column for the classifier to predict\n",
        "    \"\"\"\n",
        "    # Debug Flag\n",
        "    _LOCAL_DEBUG_ = False \n",
        "\n",
        "    # Advance the prices by 1 day to calculate the log returns \n",
        "    dataset['shift'] = dataset.groupby(level=1)['close'].shift(1)\n",
        "    if _GLOBAL_DEBUG_ and _LOCAL_DEBUG_:\n",
        "        dataset.head(30)\n",
        "\n",
        "    # Create the 'returns' column\n",
        "    dataset['returns'] = np.log(dataset['close']) - np.log(dataset['shift'])\n",
        "    if _GLOBAL_DEBUG_ and _LOCAL_DEBUG_:\n",
        "        dataset.head(30)   \n",
        "\n",
        "    # Drop the first row as it contains NANs in the returns column\n",
        "    dataset.drop(index = dataset.index.levels[0].values[0], level=0,\\\n",
        "                 inplace=True)\n",
        "    if _GLOBAL_DEBUG_ and _LOCAL_DEBUG_:\n",
        "        dataset.head(30)\n",
        "\n",
        "    # Create the 'target' column for the classifier \n",
        "    dataset['target'] = dataset['returns'].apply(lambda x: classify_return(x))\n",
        "    if _GLOBAL_DEBUG_ and _LOCAL_DEBUG_:\n",
        "        dataset.head(30)\n",
        "\n",
        "    # Drop the 'shift' column as it was only temporary to calculate 'returns'\n",
        "    dataset.drop(['shift'], axis=1, inplace=True)\n",
        "    if _GLOBAL_DEBUG_ and _LOCAL_DEBUG_:\n",
        "        dataset.head(30)\n",
        "\n",
        "    return dataset"
      ],
      "execution_count": 0,
      "outputs": []
    },
    {
      "cell_type": "markdown",
      "metadata": {
        "id": "Zi4Q9kt2zh7a",
        "colab_type": "text"
      },
      "source": [
        "Pre-process the downloaded dataset. "
      ]
    },
    {
      "cell_type": "code",
      "metadata": {
        "id": "vVvKp_pvzBxz",
        "colab_type": "code",
        "colab": {
          "base_uri": "https://localhost:8080/",
          "height": 1000
        },
        "outputId": "26fee063-fc92-4535-d325-9eca9a044ad5"
      },
      "source": [
        "display(dataset.head(20))\n",
        "dataset = data_preprocess(dataset)\n",
        "display(dataset.head(20))"
      ],
      "execution_count": 113,
      "outputs": [
        {
          "output_type": "display_data",
          "data": {
            "text/html": [
              "<div>\n",
              "<style scoped>\n",
              "    .dataframe tbody tr th:only-of-type {\n",
              "        vertical-align: middle;\n",
              "    }\n",
              "\n",
              "    .dataframe tbody tr th {\n",
              "        vertical-align: top;\n",
              "    }\n",
              "\n",
              "    .dataframe thead th {\n",
              "        text-align: right;\n",
              "    }\n",
              "</style>\n",
              "<table border=\"1\" class=\"dataframe\">\n",
              "  <thead>\n",
              "    <tr style=\"text-align: right;\">\n",
              "      <th></th>\n",
              "      <th></th>\n",
              "      <th>close</th>\n",
              "      <th>volume</th>\n",
              "    </tr>\n",
              "    <tr>\n",
              "      <th>Date</th>\n",
              "      <th></th>\n",
              "      <th></th>\n",
              "      <th></th>\n",
              "    </tr>\n",
              "  </thead>\n",
              "  <tbody>\n",
              "    <tr>\n",
              "      <th rowspan=\"10\" valign=\"top\">2017-01-03</th>\n",
              "      <th>AAPL</th>\n",
              "      <td>111.29</td>\n",
              "      <td>28781900</td>\n",
              "    </tr>\n",
              "    <tr>\n",
              "      <th>AMZN</th>\n",
              "      <td>753.67</td>\n",
              "      <td>3521100</td>\n",
              "    </tr>\n",
              "    <tr>\n",
              "      <th>BAC</th>\n",
              "      <td>21.41</td>\n",
              "      <td>99298100</td>\n",
              "    </tr>\n",
              "    <tr>\n",
              "      <th>FB</th>\n",
              "      <td>116.86</td>\n",
              "      <td>20663900</td>\n",
              "    </tr>\n",
              "    <tr>\n",
              "      <th>GM</th>\n",
              "      <td>31.13</td>\n",
              "      <td>10904900</td>\n",
              "    </tr>\n",
              "    <tr>\n",
              "      <th>GOOGL</th>\n",
              "      <td>808.01</td>\n",
              "      <td>1959000</td>\n",
              "    </tr>\n",
              "    <tr>\n",
              "      <th>JNJ</th>\n",
              "      <td>107.65</td>\n",
              "      <td>5953000</td>\n",
              "    </tr>\n",
              "    <tr>\n",
              "      <th>NFLX</th>\n",
              "      <td>127.49</td>\n",
              "      <td>9437900</td>\n",
              "    </tr>\n",
              "    <tr>\n",
              "      <th>SBUX</th>\n",
              "      <td>52.39</td>\n",
              "      <td>7809300</td>\n",
              "    </tr>\n",
              "    <tr>\n",
              "      <th>XOM</th>\n",
              "      <td>81.20</td>\n",
              "      <td>10360600</td>\n",
              "    </tr>\n",
              "    <tr>\n",
              "      <th rowspan=\"10\" valign=\"top\">2017-01-04</th>\n",
              "      <th>AAPL</th>\n",
              "      <td>111.16</td>\n",
              "      <td>21118100</td>\n",
              "    </tr>\n",
              "    <tr>\n",
              "      <th>AMZN</th>\n",
              "      <td>757.18</td>\n",
              "      <td>2510500</td>\n",
              "    </tr>\n",
              "    <tr>\n",
              "      <th>BAC</th>\n",
              "      <td>21.81</td>\n",
              "      <td>76875100</td>\n",
              "    </tr>\n",
              "    <tr>\n",
              "      <th>FB</th>\n",
              "      <td>118.69</td>\n",
              "      <td>19630900</td>\n",
              "    </tr>\n",
              "    <tr>\n",
              "      <th>GM</th>\n",
              "      <td>32.85</td>\n",
              "      <td>23388500</td>\n",
              "    </tr>\n",
              "    <tr>\n",
              "      <th>GOOGL</th>\n",
              "      <td>807.77</td>\n",
              "      <td>1515300</td>\n",
              "    </tr>\n",
              "    <tr>\n",
              "      <th>JNJ</th>\n",
              "      <td>107.48</td>\n",
              "      <td>5828900</td>\n",
              "    </tr>\n",
              "    <tr>\n",
              "      <th>NFLX</th>\n",
              "      <td>129.41</td>\n",
              "      <td>7843600</td>\n",
              "    </tr>\n",
              "    <tr>\n",
              "      <th>SBUX</th>\n",
              "      <td>53.00</td>\n",
              "      <td>7796300</td>\n",
              "    </tr>\n",
              "    <tr>\n",
              "      <th>XOM</th>\n",
              "      <td>80.30</td>\n",
              "      <td>9434200</td>\n",
              "    </tr>\n",
              "  </tbody>\n",
              "</table>\n",
              "</div>"
            ],
            "text/plain": [
              "                   close    volume\n",
              "Date                              \n",
              "2017-01-03 AAPL   111.29  28781900\n",
              "           AMZN   753.67   3521100\n",
              "           BAC     21.41  99298100\n",
              "           FB     116.86  20663900\n",
              "           GM      31.13  10904900\n",
              "           GOOGL  808.01   1959000\n",
              "           JNJ    107.65   5953000\n",
              "           NFLX   127.49   9437900\n",
              "           SBUX    52.39   7809300\n",
              "           XOM     81.20  10360600\n",
              "2017-01-04 AAPL   111.16  21118100\n",
              "           AMZN   757.18   2510500\n",
              "           BAC     21.81  76875100\n",
              "           FB     118.69  19630900\n",
              "           GM      32.85  23388500\n",
              "           GOOGL  807.77   1515300\n",
              "           JNJ    107.48   5828900\n",
              "           NFLX   129.41   7843600\n",
              "           SBUX    53.00   7796300\n",
              "           XOM     80.30   9434200"
            ]
          },
          "metadata": {
            "tags": []
          }
        },
        {
          "output_type": "display_data",
          "data": {
            "text/html": [
              "<div>\n",
              "<style scoped>\n",
              "    .dataframe tbody tr th:only-of-type {\n",
              "        vertical-align: middle;\n",
              "    }\n",
              "\n",
              "    .dataframe tbody tr th {\n",
              "        vertical-align: top;\n",
              "    }\n",
              "\n",
              "    .dataframe thead th {\n",
              "        text-align: right;\n",
              "    }\n",
              "</style>\n",
              "<table border=\"1\" class=\"dataframe\">\n",
              "  <thead>\n",
              "    <tr style=\"text-align: right;\">\n",
              "      <th></th>\n",
              "      <th></th>\n",
              "      <th>close</th>\n",
              "      <th>volume</th>\n",
              "      <th>returns</th>\n",
              "      <th>target</th>\n",
              "    </tr>\n",
              "    <tr>\n",
              "      <th>Date</th>\n",
              "      <th></th>\n",
              "      <th></th>\n",
              "      <th></th>\n",
              "      <th></th>\n",
              "      <th></th>\n",
              "    </tr>\n",
              "  </thead>\n",
              "  <tbody>\n",
              "    <tr>\n",
              "      <th rowspan=\"10\" valign=\"top\">2017-01-04</th>\n",
              "      <th>AAPL</th>\n",
              "      <td>111.16</td>\n",
              "      <td>21118100</td>\n",
              "      <td>-0.001169</td>\n",
              "      <td>0</td>\n",
              "    </tr>\n",
              "    <tr>\n",
              "      <th>AMZN</th>\n",
              "      <td>757.18</td>\n",
              "      <td>2510500</td>\n",
              "      <td>0.004646</td>\n",
              "      <td>1</td>\n",
              "    </tr>\n",
              "    <tr>\n",
              "      <th>BAC</th>\n",
              "      <td>21.81</td>\n",
              "      <td>76875100</td>\n",
              "      <td>0.018510</td>\n",
              "      <td>1</td>\n",
              "    </tr>\n",
              "    <tr>\n",
              "      <th>FB</th>\n",
              "      <td>118.69</td>\n",
              "      <td>19630900</td>\n",
              "      <td>0.015538</td>\n",
              "      <td>1</td>\n",
              "    </tr>\n",
              "    <tr>\n",
              "      <th>GM</th>\n",
              "      <td>32.85</td>\n",
              "      <td>23388500</td>\n",
              "      <td>0.053780</td>\n",
              "      <td>1</td>\n",
              "    </tr>\n",
              "    <tr>\n",
              "      <th>GOOGL</th>\n",
              "      <td>807.77</td>\n",
              "      <td>1515300</td>\n",
              "      <td>-0.000297</td>\n",
              "      <td>0</td>\n",
              "    </tr>\n",
              "    <tr>\n",
              "      <th>JNJ</th>\n",
              "      <td>107.48</td>\n",
              "      <td>5828900</td>\n",
              "      <td>-0.001580</td>\n",
              "      <td>-1</td>\n",
              "    </tr>\n",
              "    <tr>\n",
              "      <th>NFLX</th>\n",
              "      <td>129.41</td>\n",
              "      <td>7843600</td>\n",
              "      <td>0.014948</td>\n",
              "      <td>1</td>\n",
              "    </tr>\n",
              "    <tr>\n",
              "      <th>SBUX</th>\n",
              "      <td>53.00</td>\n",
              "      <td>7796300</td>\n",
              "      <td>0.011576</td>\n",
              "      <td>1</td>\n",
              "    </tr>\n",
              "    <tr>\n",
              "      <th>XOM</th>\n",
              "      <td>80.30</td>\n",
              "      <td>9434200</td>\n",
              "      <td>-0.011146</td>\n",
              "      <td>-1</td>\n",
              "    </tr>\n",
              "    <tr>\n",
              "      <th rowspan=\"10\" valign=\"top\">2017-01-05</th>\n",
              "      <th>AAPL</th>\n",
              "      <td>111.73</td>\n",
              "      <td>22193600</td>\n",
              "      <td>0.005115</td>\n",
              "      <td>1</td>\n",
              "    </tr>\n",
              "    <tr>\n",
              "      <th>AMZN</th>\n",
              "      <td>780.45</td>\n",
              "      <td>5830100</td>\n",
              "      <td>0.030270</td>\n",
              "      <td>1</td>\n",
              "    </tr>\n",
              "    <tr>\n",
              "      <th>BAC</th>\n",
              "      <td>21.55</td>\n",
              "      <td>86826400</td>\n",
              "      <td>-0.011993</td>\n",
              "      <td>-1</td>\n",
              "    </tr>\n",
              "    <tr>\n",
              "      <th>FB</th>\n",
              "      <td>120.67</td>\n",
              "      <td>19492200</td>\n",
              "      <td>0.016544</td>\n",
              "      <td>1</td>\n",
              "    </tr>\n",
              "    <tr>\n",
              "      <th>GM</th>\n",
              "      <td>32.23</td>\n",
              "      <td>15636700</td>\n",
              "      <td>-0.019054</td>\n",
              "      <td>-1</td>\n",
              "    </tr>\n",
              "    <tr>\n",
              "      <th>GOOGL</th>\n",
              "      <td>813.02</td>\n",
              "      <td>1340500</td>\n",
              "      <td>0.006478</td>\n",
              "      <td>1</td>\n",
              "    </tr>\n",
              "    <tr>\n",
              "      <th>JNJ</th>\n",
              "      <td>108.60</td>\n",
              "      <td>6217200</td>\n",
              "      <td>0.010367</td>\n",
              "      <td>1</td>\n",
              "    </tr>\n",
              "    <tr>\n",
              "      <th>NFLX</th>\n",
              "      <td>131.81</td>\n",
              "      <td>10185500</td>\n",
              "      <td>0.018376</td>\n",
              "      <td>1</td>\n",
              "    </tr>\n",
              "    <tr>\n",
              "      <th>SBUX</th>\n",
              "      <td>53.44</td>\n",
              "      <td>7602300</td>\n",
              "      <td>0.008268</td>\n",
              "      <td>1</td>\n",
              "    </tr>\n",
              "    <tr>\n",
              "      <th>XOM</th>\n",
              "      <td>79.11</td>\n",
              "      <td>14443200</td>\n",
              "      <td>-0.014930</td>\n",
              "      <td>-1</td>\n",
              "    </tr>\n",
              "  </tbody>\n",
              "</table>\n",
              "</div>"
            ],
            "text/plain": [
              "                   close    volume   returns  target\n",
              "Date                                                \n",
              "2017-01-04 AAPL   111.16  21118100 -0.001169       0\n",
              "           AMZN   757.18   2510500  0.004646       1\n",
              "           BAC     21.81  76875100  0.018510       1\n",
              "           FB     118.69  19630900  0.015538       1\n",
              "           GM      32.85  23388500  0.053780       1\n",
              "           GOOGL  807.77   1515300 -0.000297       0\n",
              "           JNJ    107.48   5828900 -0.001580      -1\n",
              "           NFLX   129.41   7843600  0.014948       1\n",
              "           SBUX    53.00   7796300  0.011576       1\n",
              "           XOM     80.30   9434200 -0.011146      -1\n",
              "2017-01-05 AAPL   111.73  22193600  0.005115       1\n",
              "           AMZN   780.45   5830100  0.030270       1\n",
              "           BAC     21.55  86826400 -0.011993      -1\n",
              "           FB     120.67  19492200  0.016544       1\n",
              "           GM      32.23  15636700 -0.019054      -1\n",
              "           GOOGL  813.02   1340500  0.006478       1\n",
              "           JNJ    108.60   6217200  0.010367       1\n",
              "           NFLX   131.81  10185500  0.018376       1\n",
              "           SBUX    53.44   7602300  0.008268       1\n",
              "           XOM     79.11  14443200 -0.014930      -1"
            ]
          },
          "metadata": {
            "tags": []
          }
        }
      ]
    },
    {
      "cell_type": "markdown",
      "metadata": {
        "id": "fADHPJVg4XpP",
        "colab_type": "text"
      },
      "source": [
        "## Feature Engineering \n",
        "Leaving this section blank at the moment. Will come back at a later time. "
      ]
    },
    {
      "cell_type": "code",
      "metadata": {
        "id": "Ha8WSnPOzzuu",
        "colab_type": "code",
        "colab": {}
      },
      "source": [
        ""
      ],
      "execution_count": 0,
      "outputs": []
    },
    {
      "cell_type": "markdown",
      "metadata": {
        "id": "cET3Gtd47bcf",
        "colab_type": "text"
      },
      "source": [
        "## Train Test Split \n",
        "Split the data into testing and training sets.  \n",
        "In production, there's going to be only re-training of the model that we have  \n",
        "chosen with the specified hyper-parameters. "
      ]
    },
    {
      "cell_type": "code",
      "metadata": {
        "id": "p0eNFIrW-Uao",
        "colab_type": "code",
        "colab": {}
      },
      "source": [
        "def train_test_split(dataset, features, target, train_size, test_size):\n",
        "    \"\"\"\n",
        "    Generate the train and test dataset.\n",
        "\n",
        "    Parameters\n",
        "    ----------\n",
        "    dataset : DataFrame\n",
        "        All the samples including target\n",
        "    features : List\n",
        "        List of the names of columns that are features\n",
        "    target : String\n",
        "        Name of column that is the target (in our case, 'target')\n",
        "    train_size : float\n",
        "        The proportion of the data used for the training dataset\n",
        "    test_size : float\n",
        "        The proportion of the data used for the test dataset\n",
        "\n",
        "    Returns\n",
        "    -------\n",
        "    x_train : DataFrame\n",
        "        The train input samples\n",
        "    x_test : DataFrame\n",
        "        The test input samples\n",
        "    y_train : Pandas Series\n",
        "        The train target values\n",
        "    y_test : Pandas Series\n",
        "        The test target values\n",
        "    \"\"\"\n",
        "    # Data Sanity check \n",
        "    assert train_size >= 0 and train_size <= 1.0, 'Train size out of bounds!'\n",
        "    assert test_size >= 0 and test_size <= 1.0, 'Test size out of bounds!'\n",
        "    assert train_size + test_size == 1.0, 'Train + Test should be equal to 1!'\n",
        "    \n",
        "    # Debug Flag \n",
        "    _LOCAL_DEBUG_ = False\n",
        "    \n",
        "    # Extract the x and y from the dataset\n",
        "    all_x = dataset[features]\n",
        "    all_y = dataset[target]\n",
        "    if _GLOBAL_DEBUG_ and _LOCAL_DEBUG_:\n",
        "        print(all_x.head())\n",
        "        print(all_y.head())\n",
        "        print('dataset.shape ', dataset.shape)\n",
        "\n",
        "    # Get the number of rows in df and no of elements in the pandas series \n",
        "    # NOTE - Both are multi-indexed\n",
        "    len_x = len(all_x.index.levels[0])\n",
        "    len_y = len(all_y.index.levels[0])\n",
        "    if _GLOBAL_DEBUG_ and _LOCAL_DEBUG_:\n",
        "        print('Len x ', len_x)\n",
        "        print('Len y ', len_y)\n",
        "    \n",
        "    # Some fancy calculations here for x\n",
        "    x_train = all_x.loc[all_x.index.levels[0]\\\n",
        "                        [:int(len_x*train_size)].astype(str).tolist()]\n",
        "    x_test = all_x.loc[all_x.index.levels[0]\\\n",
        "                       [int(len_x*train_size):int(len_x*train_size) + int(len_x*test_size)]\\\n",
        "                       .astype(str).tolist()]\n",
        "    if _GLOBAL_DEBUG_ and _LOCAL_DEBUG_:\n",
        "        print('x_train.shape ', x_train.shape)\n",
        "        print('x_test.shape ', x_test.shape)\n",
        "\n",
        "    # Some fancy calculations here for y as well\n",
        "    y_train = all_y.loc[all_y.index.levels[0]\\\n",
        "                        [:int(len_y*train_size)].astype(str).tolist()]\n",
        "    y_test = all_y.loc[all_y.index.levels[0]\\\n",
        "                       [int(len_y*train_size):int(len_y*train_size) + int(len_y*test_size)]\\\n",
        "                       .astype(str).tolist()]\n",
        "    if _GLOBAL_DEBUG_ and _LOCAL_DEBUG_:\n",
        "        print('y_train.shape ', y_train.shape)\n",
        "        print('y_test.shape ', y_test.shape)\n",
        " \n",
        "    return x_train, x_test, y_train, y_test "
      ],
      "execution_count": 0,
      "outputs": []
    },
    {
      "cell_type": "code",
      "metadata": {
        "id": "2rrKKH3lKfN6",
        "colab_type": "code",
        "colab": {}
      },
      "source": [
        "# In our dataset all the columns except for the 'target' column are features\n",
        "# Temporarily drop the 'target' and extract the features  \n",
        "features = dataset.drop(['target'], axis=1).columns.values.tolist()\n",
        "\n",
        "# Get the train and test sets \n",
        "X_train, X_test, y_train, y_test = train_test_split(dataset=dataset,\\\n",
        "                                                    features=features,\\\n",
        "                                                    target='target',\\\n",
        "                                                    train_size=0.9,\\\n",
        "                                                    test_size=0.1)"
      ],
      "execution_count": 0,
      "outputs": []
    },
    {
      "cell_type": "code",
      "metadata": {
        "id": "eTR7sXjDOQIi",
        "colab_type": "code",
        "colab": {
          "base_uri": "https://localhost:8080/",
          "height": 104
        },
        "outputId": "0ab90b0d-3997-460f-c881-ede2c004fbef"
      },
      "source": [
        "# Validate the results \n",
        "print('dataset.shape ', dataset.shape)\n",
        "print('X_train.shape ', X_train.shape)\n",
        "print('X_test.shape ', X_test.shape)\n",
        "print('y_train.shape ', y_train.shape)\n",
        "print('y_test.shape ', y_test.shape)"
      ],
      "execution_count": 140,
      "outputs": [
        {
          "output_type": "stream",
          "text": [
            "dataset.shape  (1700, 4)\n",
            "X_train.shape  (1520, 3)\n",
            "X_test.shape  (170, 3)\n",
            "y_train.shape  (1520,)\n",
            "y_test.shape  (170,)\n"
          ],
          "name": "stdout"
        }
      ]
    },
    {
      "cell_type": "code",
      "metadata": {
        "id": "VLUsSjAmOfR9",
        "colab_type": "code",
        "colab": {}
      },
      "source": [
        ""
      ],
      "execution_count": 0,
      "outputs": []
    }
  ]
}