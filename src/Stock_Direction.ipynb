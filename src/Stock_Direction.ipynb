{
  "nbformat": 4,
  "nbformat_minor": 0,
  "metadata": {
    "colab": {
      "name": "Stock-Direction.ipynb",
      "provenance": [],
      "include_colab_link": true
    },
    "kernelspec": {
      "name": "python3",
      "display_name": "Python 3"
    },
    "accelerator": "GPU"
  },
  "cells": [
    {
      "cell_type": "markdown",
      "metadata": {
        "id": "view-in-github",
        "colab_type": "text"
      },
      "source": [
        "<a href=\"https://colab.research.google.com/github/pranjalchaubey/Predicting-Stock-Direction/blob/master/src/Stock_Direction.ipynb\" target=\"_parent\"><img src=\"https://colab.research.google.com/assets/colab-badge.svg\" alt=\"Open In Colab\"/></a>"
      ]
    },
    {
      "cell_type": "markdown",
      "metadata": {
        "id": "MrA9m16Wv5Hq",
        "colab_type": "text"
      },
      "source": [
        "# Stock Direction\n",
        "In this notebook we are going to use Random Forests to predict the direction  \n",
        "of stocks for the next trading day.  \n",
        "In more technical terms, we are going to try and predict the _**Momentum**_  \n",
        "of the stocks.  \n",
        "Based on the momentum, we are going to give the following signals to the user  \n",
        "1. Buy (_+ve momentum_)\n",
        "2. Sell (_-ve momentum_)\n",
        "3. Hold (_neutral_)  \n",
        "\n",
        "This system will work on the daily closing prices and will generate the signals by predicting the momentum for the next trading day. "
      ]
    },
    {
      "cell_type": "markdown",
      "metadata": {
        "id": "Rm2r2nZLyPpP",
        "colab_type": "text"
      },
      "source": [
        "##Setup The Colab Environment \n",
        "Install and Import the required libraries.  "
      ]
    },
    {
      "cell_type": "code",
      "metadata": {
        "id": "nPIEFSuJz3_Z",
        "colab_type": "code",
        "colab": {
          "base_uri": "https://localhost:8080/",
          "height": 384
        },
        "outputId": "30fe3a9b-c8c1-46a8-ccee-d82f4e9936d4"
      },
      "source": [
        "# Install the yFinance library \n",
        "!pip install yfinance "
      ],
      "execution_count": 7,
      "outputs": [
        {
          "output_type": "stream",
          "text": [
            "Collecting yfinance\n",
            "  Downloading https://files.pythonhosted.org/packages/53/0e/40387099824c98be22cd7e33a620e9d38b61998b031f0b33f0b9959717d2/yfinance-0.1.45.tar.gz\n",
            "Requirement already satisfied: pandas>=0.24 in /usr/local/lib/python3.6/dist-packages (from yfinance) (0.24.2)\n",
            "Requirement already satisfied: numpy>=1.15 in /usr/local/lib/python3.6/dist-packages (from yfinance) (1.16.5)\n",
            "Requirement already satisfied: requests>=2.20 in /usr/local/lib/python3.6/dist-packages (from yfinance) (2.21.0)\n",
            "Requirement already satisfied: multitasking>=0.0.7 in /usr/local/lib/python3.6/dist-packages (from yfinance) (0.0.9)\n",
            "Requirement already satisfied: pytz>=2011k in /usr/local/lib/python3.6/dist-packages (from pandas>=0.24->yfinance) (2018.9)\n",
            "Requirement already satisfied: python-dateutil>=2.5.0 in /usr/local/lib/python3.6/dist-packages (from pandas>=0.24->yfinance) (2.5.3)\n",
            "Requirement already satisfied: certifi>=2017.4.17 in /usr/local/lib/python3.6/dist-packages (from requests>=2.20->yfinance) (2019.6.16)\n",
            "Requirement already satisfied: urllib3<1.25,>=1.21.1 in /usr/local/lib/python3.6/dist-packages (from requests>=2.20->yfinance) (1.24.3)\n",
            "Requirement already satisfied: chardet<3.1.0,>=3.0.2 in /usr/local/lib/python3.6/dist-packages (from requests>=2.20->yfinance) (3.0.4)\n",
            "Requirement already satisfied: idna<2.9,>=2.5 in /usr/local/lib/python3.6/dist-packages (from requests>=2.20->yfinance) (2.8)\n",
            "Requirement already satisfied: six>=1.5 in /usr/local/lib/python3.6/dist-packages (from python-dateutil>=2.5.0->pandas>=0.24->yfinance) (1.12.0)\n",
            "Building wheels for collected packages: yfinance\n",
            "  Building wheel for yfinance (setup.py) ... \u001b[?25l\u001b[?25hdone\n",
            "  Created wheel for yfinance: filename=yfinance-0.1.45-cp36-none-any.whl size=14652 sha256=ec9264a40ffd123c8275d9405c7dda0e951a2f3691dff307fd030661ffd3cfe1\n",
            "  Stored in directory: /root/.cache/pip/wheels/0c/d1/df/aa9a7744a4ac353cc9a1f2c3aaea7c1f457fc49de4286f2d88\n",
            "Successfully built yfinance\n",
            "Installing collected packages: yfinance\n",
            "Successfully installed yfinance-0.1.45\n"
          ],
          "name": "stdout"
        }
      ]
    },
    {
      "cell_type": "code",
      "metadata": {
        "id": "wHORMgl6zxqJ",
        "colab_type": "code",
        "colab": {}
      },
      "source": [
        "# yFinance will help us fetch the data for our dataset\n",
        "import yfinance as yf"
      ],
      "execution_count": 0,
      "outputs": []
    },
    {
      "cell_type": "code",
      "metadata": {
        "id": "ALAkdXJVv0IL",
        "colab_type": "code",
        "colab": {}
      },
      "source": [
        "# Data Mining and plotting \n",
        "import numpy as np\n",
        "import pandas as pd\n",
        "import matplotlib.pyplot as plt\n",
        "import seaborn as sns"
      ],
      "execution_count": 0,
      "outputs": []
    },
    {
      "cell_type": "code",
      "metadata": {
        "id": "70KcLBXhy08M",
        "colab_type": "code",
        "colab": {}
      },
      "source": [
        "# Classifier \n",
        "from sklearn.ensemble import RandomForestClassifier\n",
        "from sklearn.linear_model import LogisticRegression"
      ],
      "execution_count": 0,
      "outputs": []
    },
    {
      "cell_type": "code",
      "metadata": {
        "id": "ujJcQHQTzV2a",
        "colab_type": "code",
        "colab": {}
      },
      "source": [
        "# Other Libraries\n",
        "from sklearn.model_selection import train_test_split\n",
        "from sklearn.metrics import confusion_matrix\n",
        "\n",
        "import os\n",
        "import sys\n",
        "import shutil\n",
        "# if in Google Colaboratory\n",
        "try:\n",
        "    from google.colab import drive\n",
        "except:\n",
        "    pass\n",
        "\n",
        "import warnings\n",
        "warnings.filterwarnings(\"ignore\")"
      ],
      "execution_count": 0,
      "outputs": []
    },
    {
      "cell_type": "code",
      "metadata": {
        "id": "-eXZSuMUzZ6I",
        "colab_type": "code",
        "colab": {}
      },
      "source": [
        "# Configure Pandas Display Options\n",
        "pd.set_option('display.max_rows', 500)\n",
        "pd.set_option('display.max_columns', 500)\n",
        "pd.set_option('display.width', 1000)"
      ],
      "execution_count": 0,
      "outputs": []
    },
    {
      "cell_type": "code",
      "metadata": {
        "id": "MMqMKQ6pzc8o",
        "colab_type": "code",
        "colab": {
          "base_uri": "https://localhost:8080/",
          "height": 347
        },
        "outputId": "d9f9ab26-6aed-4055-9401-ce13a1f50c43"
      },
      "source": [
        "# Since I am running this notebook on Colab, \n",
        "# Let's try and get some system information \n",
        "import platform\n",
        "print('System Processor: ', platform.processor(), '\\n')\n",
        "!nvidia-smi"
      ],
      "execution_count": 13,
      "outputs": [
        {
          "output_type": "stream",
          "text": [
            "System Processor:  x86_64 \n",
            "\n",
            "Sat Sep 28 12:20:00 2019       \n",
            "+-----------------------------------------------------------------------------+\n",
            "| NVIDIA-SMI 430.40       Driver Version: 418.67       CUDA Version: 10.1     |\n",
            "|-------------------------------+----------------------+----------------------+\n",
            "| GPU  Name        Persistence-M| Bus-Id        Disp.A | Volatile Uncorr. ECC |\n",
            "| Fan  Temp  Perf  Pwr:Usage/Cap|         Memory-Usage | GPU-Util  Compute M. |\n",
            "|===============================+======================+======================|\n",
            "|   0  Tesla T4            Off  | 00000000:00:04.0 Off |                    0 |\n",
            "| N/A   33C    P8     9W /  70W |      0MiB / 15079MiB |      0%      Default |\n",
            "+-------------------------------+----------------------+----------------------+\n",
            "                                                                               \n",
            "+-----------------------------------------------------------------------------+\n",
            "| Processes:                                                       GPU Memory |\n",
            "|  GPU       PID   Type   Process name                             Usage      |\n",
            "|=============================================================================|\n",
            "|  No running processes found                                                 |\n",
            "+-----------------------------------------------------------------------------+\n"
          ],
          "name": "stdout"
        }
      ]
    },
    {
      "cell_type": "markdown",
      "metadata": {
        "id": "gDkAce5w_LT4",
        "colab_type": "text"
      },
      "source": [
        "## Load the Data\n",
        "We will extract the 5 year history of 10 stocks chosen by the user. \n",
        "\n",
        "<br/>Here, we will take the following stocks as an example\n",
        "1. Facebook FB\n",
        "2. Apple AAPL\n",
        "3. Amazon AMZN\n",
        "4. Netflix NFLX\n",
        "5. Google GOOGL\n",
        "6. Starbucks SBUX\n",
        "7. Exxon Mobil XOM\n",
        "8. Johnson & Johnson JNJ\n",
        "9. Bank of America BAC\n",
        "10. General Motors GM\n",
        "\n",
        "<br/>In the actual application, stock selection will be done by the user. "
      ]
    },
    {
      "cell_type": "code",
      "metadata": {
        "id": "MO3eCg6TzeeR",
        "colab_type": "code",
        "colab": {}
      },
      "source": [
        "# List of stock tickers \n",
        "# this info will come from the user, perhaps in the form of a pickle file \n",
        "ticker_list = ['FB', 'AAPL', 'AMZN', 'NFLX', 'GOOGL', 'SBUX', 'XOM', 'JNJ',\\\n",
        "               'BAC', 'GM']"
      ],
      "execution_count": 0,
      "outputs": []
    },
    {
      "cell_type": "code",
      "metadata": {
        "id": "7nk95CIFIW9H",
        "colab_type": "code",
        "colab": {}
      },
      "source": [
        "def fetch_ticker_data(tickers): \n",
        "  \"\"\"\n",
        "  Fetch 5 years of historical data for the 'tickers', from Yahoo Finance.    \n",
        "\n",
        "  Parameters\n",
        "  ----------\n",
        "  tickers : List   \n",
        "    List of stocks chosen by the user.   \n",
        "      \n",
        "  Returns\n",
        "  -------\n",
        "  data : Dataframe \n",
        "    Pandas df with historical stock data time series. \n",
        "  \"\"\"\n"
      ],
      "execution_count": 0,
      "outputs": []
    }
  ]
}