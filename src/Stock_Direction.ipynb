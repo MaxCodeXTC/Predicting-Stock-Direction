{
  "nbformat": 4,
  "nbformat_minor": 0,
  "metadata": {
    "colab": {
      "name": "Stock-Direction.ipynb",
      "provenance": [],
      "include_colab_link": true
    },
    "kernelspec": {
      "name": "python3",
      "display_name": "Python 3"
    },
    "accelerator": "GPU"
  },
  "cells": [
    {
      "cell_type": "markdown",
      "metadata": {
        "id": "view-in-github",
        "colab_type": "text"
      },
      "source": [
        "<a href=\"https://colab.research.google.com/github/pranjalchaubey/Predicting-Stock-Direction/blob/master/src/Stock_Direction.ipynb\" target=\"_parent\"><img src=\"https://colab.research.google.com/assets/colab-badge.svg\" alt=\"Open In Colab\"/></a>"
      ]
    },
    {
      "cell_type": "markdown",
      "metadata": {
        "id": "MrA9m16Wv5Hq",
        "colab_type": "text"
      },
      "source": [
        "# Stock Direction\n",
        "In this notebook we are going to use Random Forests to predict the direction  \n",
        "of stocks for the next trading day.  \n",
        "In more technical terms, we are going to try and predict the _**Momentum**_  \n",
        "of the stocks.  \n",
        "Based on the momentum, we are going to give the following signals to the user  \n",
        "1. Buy (_+ve momentum_)\n",
        "2. Sell (_-ve momentum_)\n",
        "3. Hold (_neutral_)  \n",
        "\n",
        "This system will work on the daily closing prices and will generate the signals by predicting the momentum for the next trading day. "
      ]
    },
    {
      "cell_type": "markdown",
      "metadata": {
        "id": "Rm2r2nZLyPpP",
        "colab_type": "text"
      },
      "source": [
        "##Setup The Colab Environment \n",
        "Install and Import the required libraries.  "
      ]
    },
    {
      "cell_type": "code",
      "metadata": {
        "id": "HHPgN_JWRont",
        "colab_type": "code",
        "colab": {}
      },
      "source": [
        "# Debug Flag\n",
        "_GLOBAL_DEBUG_ = True"
      ],
      "execution_count": 0,
      "outputs": []
    },
    {
      "cell_type": "code",
      "metadata": {
        "id": "nPIEFSuJz3_Z",
        "colab_type": "code",
        "colab": {
          "base_uri": "https://localhost:8080/",
          "height": 35
        },
        "outputId": "b27f5ff4-bf6c-405e-d43b-5e771a5ee01c"
      },
      "source": [
        "# Install the yFinance library \n",
        "!pip install -q yfinance "
      ],
      "execution_count": 2,
      "outputs": [
        {
          "output_type": "stream",
          "text": [
            "  Building wheel for yfinance (setup.py) ... \u001b[?25l\u001b[?25hdone\n"
          ],
          "name": "stdout"
        }
      ]
    },
    {
      "cell_type": "code",
      "metadata": {
        "id": "wHORMgl6zxqJ",
        "colab_type": "code",
        "colab": {}
      },
      "source": [
        "# yFinance will help us fetch the data for our dataset\n",
        "import yfinance as yf"
      ],
      "execution_count": 0,
      "outputs": []
    },
    {
      "cell_type": "code",
      "metadata": {
        "id": "ALAkdXJVv0IL",
        "colab_type": "code",
        "colab": {}
      },
      "source": [
        "# Data Mining and plotting \n",
        "import numpy as np\n",
        "import pandas as pd\n",
        "import matplotlib.pyplot as plt"
      ],
      "execution_count": 0,
      "outputs": []
    },
    {
      "cell_type": "code",
      "metadata": {
        "id": "70KcLBXhy08M",
        "colab_type": "code",
        "colab": {}
      },
      "source": [
        "# Classifier \n",
        "from sklearn.ensemble import RandomForestClassifier"
      ],
      "execution_count": 0,
      "outputs": []
    },
    {
      "cell_type": "code",
      "metadata": {
        "id": "ujJcQHQTzV2a",
        "colab_type": "code",
        "colab": {}
      },
      "source": [
        "# Other Libraries\n",
        "from sklearn.model_selection import train_test_split\n",
        "from sklearn.metrics import confusion_matrix\n",
        "from tqdm import tqdm\n",
        "\n",
        "import os\n",
        "import sys\n",
        "import shutil\n",
        "# if in Google Colaboratory\n",
        "try:\n",
        "    from google.colab import drive\n",
        "except:\n",
        "    pass\n",
        "\n",
        "import warnings\n",
        "warnings.filterwarnings(\"ignore\")"
      ],
      "execution_count": 0,
      "outputs": []
    },
    {
      "cell_type": "code",
      "metadata": {
        "id": "-eXZSuMUzZ6I",
        "colab_type": "code",
        "colab": {}
      },
      "source": [
        "# Configure Pandas Display Options\n",
        "pd.set_option('display.max_rows', 500)\n",
        "pd.set_option('display.max_columns', 500)\n",
        "pd.set_option('display.width', 1000)"
      ],
      "execution_count": 0,
      "outputs": []
    },
    {
      "cell_type": "code",
      "metadata": {
        "id": "MMqMKQ6pzc8o",
        "colab_type": "code",
        "outputId": "6086a3d3-46f2-4334-b71a-a0d56cfb731d",
        "colab": {
          "base_uri": "https://localhost:8080/",
          "height": 347
        }
      },
      "source": [
        "# Since I am running this notebook on Colab, \n",
        "# Let's try and get some system information \n",
        "import platform\n",
        "print('System Processor: ', platform.processor(), '\\n')\n",
        "!nvidia-smi"
      ],
      "execution_count": 8,
      "outputs": [
        {
          "output_type": "stream",
          "text": [
            "System Processor:  x86_64 \n",
            "\n",
            "Tue Oct  8 20:42:53 2019       \n",
            "+-----------------------------------------------------------------------------+\n",
            "| NVIDIA-SMI 430.40       Driver Version: 418.67       CUDA Version: 10.1     |\n",
            "|-------------------------------+----------------------+----------------------+\n",
            "| GPU  Name        Persistence-M| Bus-Id        Disp.A | Volatile Uncorr. ECC |\n",
            "| Fan  Temp  Perf  Pwr:Usage/Cap|         Memory-Usage | GPU-Util  Compute M. |\n",
            "|===============================+======================+======================|\n",
            "|   0  Tesla K80           Off  | 00000000:00:04.0 Off |                    0 |\n",
            "| N/A   49C    P8    31W / 149W |      0MiB / 11441MiB |      0%      Default |\n",
            "+-------------------------------+----------------------+----------------------+\n",
            "                                                                               \n",
            "+-----------------------------------------------------------------------------+\n",
            "| Processes:                                                       GPU Memory |\n",
            "|  GPU       PID   Type   Process name                             Usage      |\n",
            "|=============================================================================|\n",
            "|  No running processes found                                                 |\n",
            "+-----------------------------------------------------------------------------+\n"
          ],
          "name": "stdout"
        }
      ]
    },
    {
      "cell_type": "markdown",
      "metadata": {
        "id": "gDkAce5w_LT4",
        "colab_type": "text"
      },
      "source": [
        "## Load the Data\n",
        "We will extract the 5 year history of 10 stocks chosen by the user. \n",
        "\n",
        "<br/>Here, we will take the following stocks as an example\n",
        "1. Facebook FB\n",
        "2. Apple AAPL\n",
        "3. Amazon AMZN\n",
        "4. Netflix NFLX\n",
        "5. Google GOOGL\n",
        "6. Starbucks SBUX\n",
        "7. Exxon Mobil XOM\n",
        "8. Johnson & Johnson JNJ\n",
        "9. Bank of America BAC\n",
        "10. General Motors GM\n",
        "\n",
        "<br/>In the actual application, stock selection will be done by the user. "
      ]
    },
    {
      "cell_type": "code",
      "metadata": {
        "id": "MO3eCg6TzeeR",
        "colab_type": "code",
        "colab": {}
      },
      "source": [
        "# List of stock tickers \n",
        "# this info will come from the user, perhaps in the form of a pickle file \n",
        "ticker_list = ['FB', 'AAPL', 'AMZN', 'NFLX', 'GOOGL', 'SBUX', 'XOM', 'JNJ',\\\n",
        "               'BAC', 'GM']"
      ],
      "execution_count": 0,
      "outputs": []
    },
    {
      "cell_type": "code",
      "metadata": {
        "id": "7nk95CIFIW9H",
        "colab_type": "code",
        "colab": {}
      },
      "source": [
        "def fetch_ticker_data(tickers): \n",
        "    \"\"\"\n",
        "    Fetch 5 years of historical data for the 'tickers', from Yahoo Finance.    \n",
        "\n",
        "    Parameters\n",
        "    ----------\n",
        "    tickers : List   \n",
        "        List of stocks chosen by the user.   \n",
        "        \n",
        "    Returns\n",
        "    -------\n",
        "    data : Dataframe \n",
        "        Pandas df with historical stock data time series. \n",
        "    \"\"\"\n",
        "    # Debug \n",
        "    _LOCAL_DEBUG_ = False\n",
        "\n",
        "    # We are going to get 10 years worth of stock data\n",
        "    # Generate the required timestamps \n",
        "    t_now = pd.datetime.now().date()\n",
        "    t_10_year = (t_now - pd.DateOffset(n=3650)).date()\n",
        "    if _GLOBAL_DEBUG_ and _LOCAL_DEBUG_:\n",
        "        print(t_now)\n",
        "        print(t_10_year)\n",
        "\n",
        "    # Get the Data from Yahoo! Finance\n",
        "    data = yf.download(tickers, start=t_10_year, end=t_now)\n",
        "    if _GLOBAL_DEBUG_ and _LOCAL_DEBUG_:\n",
        "        display(data.head(20))\n",
        "\n",
        "    # Data is multi-indexed on the columns \n",
        "    # Make it multi-index on the rows, to make it \n",
        "    # fit for consumption by the RandomForestClassiffier\n",
        "    data = data.stack(1) \n",
        "    if _GLOBAL_DEBUG_ and _LOCAL_DEBUG_:\n",
        "        display(data.head(20))\n",
        "\n",
        "    # Drop all the columns except for Adj Close & Volume\n",
        "    data = data[['Adj Close', 'Volume']]\n",
        "    # Rename the column names \n",
        "    data.columns = ['close', 'volume']  \n",
        "    if _GLOBAL_DEBUG_ and _LOCAL_DEBUG_:\n",
        "        display(data.head(20))\n",
        "\n",
        "    return data"
      ],
      "execution_count": 0,
      "outputs": []
    },
    {
      "cell_type": "code",
      "metadata": {
        "id": "kPtLBV75SD08",
        "colab_type": "code",
        "outputId": "3cb54a49-6241-4dc6-976d-c20cf012b09b",
        "colab": {
          "base_uri": "https://localhost:8080/",
          "height": 35
        }
      },
      "source": [
        "# Go fetch! \n",
        "dataset = fetch_ticker_data(tickers=ticker_list)"
      ],
      "execution_count": 16,
      "outputs": [
        {
          "output_type": "stream",
          "text": [
            "[*********************100%***********************]  10 of 10 downloaded\n"
          ],
          "name": "stdout"
        }
      ]
    },
    {
      "cell_type": "markdown",
      "metadata": {
        "id": "8lwSmUWMplIb",
        "colab_type": "text"
      },
      "source": [
        "## Data Preprocessing\n",
        "Now that we have the data downloaded and neatly organized in a dataframe,  \n",
        "time to do some necessary preprocessing.  \n",
        "In particular, we are going to use the _log returns_ of the stocks to create a  \n",
        "target column, called `target`.  \n",
        "The target variable will be created using the following criteria  \n",
        "```\n",
        "  -1 = Sell = ret < -0.0015\n",
        "   0 = Hold = -0.0015 < ret < 0.0015 \n",
        "   1 = Buy  = ret > .0015\n",
        "```"
      ]
    },
    {
      "cell_type": "code",
      "metadata": {
        "id": "V4H28uqBYSjT",
        "colab_type": "code",
        "colab": {}
      },
      "source": [
        "def classify_return(ret):\n",
        "    \"\"\"\n",
        "    Classify the returns as -1, 0 or 1.\n",
        "    -1 = Sell = ret < -0.0015\n",
        "    0 = Hold = -0.0015 < ret < 0.0015 \n",
        "    1 = Buy  = ret > .0015\n",
        "\n",
        "    Parameters\n",
        "    ----------\n",
        "    ret : Float   \n",
        "        Stock return for the current day, d. \n",
        "        retd = log(retd) - log(ret(d-1))\n",
        "\n",
        "    Returns\n",
        "    -------\n",
        "    ret_category : Integer\n",
        "        Category of return, ret. \n",
        "        -1, 0 or 1. \n",
        "    \"\"\"\n",
        "    ret_category = 0\n",
        "    \n",
        "    if ret < -0.0015: \n",
        "        ret_category = -1\n",
        "    elif -0.0015 < ret and ret < 0.0015:\n",
        "        ret_category = 0\n",
        "    elif ret > 0.0015:\n",
        "        ret_category = 1\n",
        "\n",
        "    return ret_category"
      ],
      "execution_count": 0,
      "outputs": []
    },
    {
      "cell_type": "code",
      "metadata": {
        "id": "ofeAWTqHr1tv",
        "colab_type": "code",
        "colab": {}
      },
      "source": [
        "def data_preprocess(dataset):\n",
        "    \"\"\"\n",
        "    Calculates log returns and creates the 'target' column.\n",
        "    Returns the processed dataset as well as the data for the current \n",
        "    date separately on which the prediction has to be performed. \n",
        "\n",
        "    Parameters\n",
        "    ----------\n",
        "    dataset : Pandas Dataframe\n",
        "        Dataframe containing price, volume and other \n",
        "        information of the chosen stocks. \n",
        "\n",
        "    Returns\n",
        "    -------\n",
        "    dataset: DataFrame\n",
        "        Processed dataframe with two additional columns,\n",
        "        'returns' and 'target'. \n",
        "        returns = log returns of prices \n",
        "        target = target column for the classifier to predict\n",
        "    pred_data: DataFrame\n",
        "        Data for the 'current date' on which the trained classifier \n",
        "        will perform the prediction. The classifier output from \n",
        "        this prediction will be visible to the user. \n",
        "    \"\"\"\n",
        "    # Debug Flag\n",
        "    _LOCAL_DEBUG_ = False\n",
        "\n",
        "    # Advance the prices by 1 day to calculate the log returns \n",
        "    dataset['shift'] = dataset.groupby(level=1)['close'].shift(1)\n",
        "    if _GLOBAL_DEBUG_ and _LOCAL_DEBUG_:\n",
        "        display(dataset.head(30))\n",
        "\n",
        "    # Create the 'returns' column\n",
        "    dataset['returns'] = np.log(dataset['close']) - np.log(dataset['shift'])\n",
        "    if _GLOBAL_DEBUG_ and _LOCAL_DEBUG_:\n",
        "        #print('Return Head')\n",
        "        #display(dataset.head(30))\n",
        "        print('Return Tail')\n",
        "        display(dataset.tail(30))\n",
        "\n",
        "    # Drop the first row as it contains NANs in the returns column\n",
        "    dataset.drop(index = dataset.index.levels[0].values[0], level=0,\\\n",
        "                 inplace=True)\n",
        "    if _GLOBAL_DEBUG_ and _LOCAL_DEBUG_:\n",
        "        display(dataset.head(30))\n",
        "\n",
        "    # Create the 'target' column for the classifier \n",
        "    # Shift the 'target' into the future/delay by 1 day 'shift(-1)'\n",
        "    # We do this since we are predicting returns of the 'next day close'\n",
        "    dataset['target'] = dataset['returns'].apply(lambda x: classify_return(x))\n",
        "    dataset['target'] = dataset.groupby(level=1)['target'].shift(-1)\n",
        "    if _GLOBAL_DEBUG_ and _LOCAL_DEBUG_:\n",
        "        #print('Target Head')\n",
        "        #display(dataset.head(30))\n",
        "        print('Target Tail')\n",
        "        display(dataset.tail(30))\n",
        "\n",
        "    # Drop the 'shift' column as it was only temporary to calculate 'returns'\n",
        "    dataset.drop(['shift'], axis=1, inplace=True)\n",
        "    if _GLOBAL_DEBUG_ and _LOCAL_DEBUG_:\n",
        "        display(dataset.head(30))\n",
        "\n",
        "    # Extract the data for the current date, before dropping NANs \n",
        "    pred_data = dataset.iloc[-(len(ticker_list)):]\n",
        "    if _GLOBAL_DEBUG_ and _LOCAL_DEBUG_:\n",
        "        print('pred_data')\n",
        "        display(pred_data)\n",
        "\n",
        "    # Handle NANs\n",
        "    # We keep it simple at the moment and simply drop off rows with NANs \n",
        "    if _GLOBAL_DEBUG_ and _LOCAL_DEBUG_:\n",
        "        print(dataset.shape)\n",
        "        print(dataset.isna().sum())\n",
        "    dataset.dropna(how='any', inplace=True)\n",
        "    if _GLOBAL_DEBUG_ and _LOCAL_DEBUG_:\n",
        "        print(dataset.shape)\n",
        "        print(dataset.isna().sum())\n",
        "        print('Final Dataset Tail')\n",
        "        display(dataset.tail(30))\n",
        "\n",
        "    return dataset, pred_data"
      ],
      "execution_count": 0,
      "outputs": []
    },
    {
      "cell_type": "markdown",
      "metadata": {
        "id": "Zi4Q9kt2zh7a",
        "colab_type": "text"
      },
      "source": [
        "Pre-process the downloaded dataset. "
      ]
    },
    {
      "cell_type": "code",
      "metadata": {
        "id": "vVvKp_pvzBxz",
        "colab_type": "code",
        "colab": {
          "base_uri": "https://localhost:8080/",
          "height": 1000
        },
        "outputId": "bc70f488-4cb5-4481-da7d-b49adb10899a"
      },
      "source": [
        "if _GLOBAL_DEBUG_:\n",
        "    display(dataset.head(20))\n",
        "dataset, pred_data = data_preprocess(dataset)\n",
        "if _GLOBAL_DEBUG_:\n",
        "    display(dataset.head(20))\n",
        "    display(dataset.tail())\n",
        "    display(pred_data)"
      ],
      "execution_count": 19,
      "outputs": [
        {
          "output_type": "display_data",
          "data": {
            "text/html": [
              "<div>\n",
              "<style scoped>\n",
              "    .dataframe tbody tr th:only-of-type {\n",
              "        vertical-align: middle;\n",
              "    }\n",
              "\n",
              "    .dataframe tbody tr th {\n",
              "        vertical-align: top;\n",
              "    }\n",
              "\n",
              "    .dataframe thead th {\n",
              "        text-align: right;\n",
              "    }\n",
              "</style>\n",
              "<table border=\"1\" class=\"dataframe\">\n",
              "  <thead>\n",
              "    <tr style=\"text-align: right;\">\n",
              "      <th></th>\n",
              "      <th></th>\n",
              "      <th>close</th>\n",
              "      <th>volume</th>\n",
              "    </tr>\n",
              "    <tr>\n",
              "      <th>Date</th>\n",
              "      <th></th>\n",
              "      <th></th>\n",
              "      <th></th>\n",
              "    </tr>\n",
              "  </thead>\n",
              "  <tbody>\n",
              "    <tr>\n",
              "      <th rowspan=\"8\" valign=\"top\">2009-10-12</th>\n",
              "      <th>AAPL</th>\n",
              "      <td>23.79</td>\n",
              "      <td>72006200.0</td>\n",
              "    </tr>\n",
              "    <tr>\n",
              "      <th>AMZN</th>\n",
              "      <td>93.60</td>\n",
              "      <td>5591400.0</td>\n",
              "    </tr>\n",
              "    <tr>\n",
              "      <th>BAC</th>\n",
              "      <td>16.28</td>\n",
              "      <td>139972400.0</td>\n",
              "    </tr>\n",
              "    <tr>\n",
              "      <th>GOOGL</th>\n",
              "      <td>262.28</td>\n",
              "      <td>6637700.0</td>\n",
              "    </tr>\n",
              "    <tr>\n",
              "      <th>JNJ</th>\n",
              "      <td>46.22</td>\n",
              "      <td>12697200.0</td>\n",
              "    </tr>\n",
              "    <tr>\n",
              "      <th>NFLX</th>\n",
              "      <td>6.58</td>\n",
              "      <td>7390600.0</td>\n",
              "    </tr>\n",
              "    <tr>\n",
              "      <th>SBUX</th>\n",
              "      <td>8.73</td>\n",
              "      <td>20038600.0</td>\n",
              "    </tr>\n",
              "    <tr>\n",
              "      <th>XOM</th>\n",
              "      <td>51.08</td>\n",
              "      <td>16233800.0</td>\n",
              "    </tr>\n",
              "    <tr>\n",
              "      <th rowspan=\"8\" valign=\"top\">2009-10-13</th>\n",
              "      <th>AAPL</th>\n",
              "      <td>23.69</td>\n",
              "      <td>87005100.0</td>\n",
              "    </tr>\n",
              "    <tr>\n",
              "      <th>AMZN</th>\n",
              "      <td>94.83</td>\n",
              "      <td>4720000.0</td>\n",
              "    </tr>\n",
              "    <tr>\n",
              "      <th>BAC</th>\n",
              "      <td>16.08</td>\n",
              "      <td>150388900.0</td>\n",
              "    </tr>\n",
              "    <tr>\n",
              "      <th>GOOGL</th>\n",
              "      <td>263.32</td>\n",
              "      <td>6068700.0</td>\n",
              "    </tr>\n",
              "    <tr>\n",
              "      <th>JNJ</th>\n",
              "      <td>45.09</td>\n",
              "      <td>23501200.0</td>\n",
              "    </tr>\n",
              "    <tr>\n",
              "      <th>NFLX</th>\n",
              "      <td>6.64</td>\n",
              "      <td>4514300.0</td>\n",
              "    </tr>\n",
              "    <tr>\n",
              "      <th>SBUX</th>\n",
              "      <td>8.65</td>\n",
              "      <td>13518400.0</td>\n",
              "    </tr>\n",
              "    <tr>\n",
              "      <th>XOM</th>\n",
              "      <td>51.17</td>\n",
              "      <td>19333400.0</td>\n",
              "    </tr>\n",
              "    <tr>\n",
              "      <th rowspan=\"4\" valign=\"top\">2009-10-14</th>\n",
              "      <th>AAPL</th>\n",
              "      <td>23.85</td>\n",
              "      <td>93877700.0</td>\n",
              "    </tr>\n",
              "    <tr>\n",
              "      <th>AMZN</th>\n",
              "      <td>97.46</td>\n",
              "      <td>5556800.0</td>\n",
              "    </tr>\n",
              "    <tr>\n",
              "      <th>BAC</th>\n",
              "      <td>16.79</td>\n",
              "      <td>229813800.0</td>\n",
              "    </tr>\n",
              "    <tr>\n",
              "      <th>GOOGL</th>\n",
              "      <td>267.93</td>\n",
              "      <td>6510200.0</td>\n",
              "    </tr>\n",
              "  </tbody>\n",
              "</table>\n",
              "</div>"
            ],
            "text/plain": [
              "                   close       volume\n",
              "Date                                 \n",
              "2009-10-12 AAPL    23.79   72006200.0\n",
              "           AMZN    93.60    5591400.0\n",
              "           BAC     16.28  139972400.0\n",
              "           GOOGL  262.28    6637700.0\n",
              "           JNJ     46.22   12697200.0\n",
              "           NFLX     6.58    7390600.0\n",
              "           SBUX     8.73   20038600.0\n",
              "           XOM     51.08   16233800.0\n",
              "2009-10-13 AAPL    23.69   87005100.0\n",
              "           AMZN    94.83    4720000.0\n",
              "           BAC     16.08  150388900.0\n",
              "           GOOGL  263.32    6068700.0\n",
              "           JNJ     45.09   23501200.0\n",
              "           NFLX     6.64    4514300.0\n",
              "           SBUX     8.65   13518400.0\n",
              "           XOM     51.17   19333400.0\n",
              "2009-10-14 AAPL    23.85   93877700.0\n",
              "           AMZN    97.46    5556800.0\n",
              "           BAC     16.79  229813800.0\n",
              "           GOOGL  267.93    6510200.0"
            ]
          },
          "metadata": {
            "tags": []
          }
        },
        {
          "output_type": "display_data",
          "data": {
            "text/html": [
              "<div>\n",
              "<style scoped>\n",
              "    .dataframe tbody tr th:only-of-type {\n",
              "        vertical-align: middle;\n",
              "    }\n",
              "\n",
              "    .dataframe tbody tr th {\n",
              "        vertical-align: top;\n",
              "    }\n",
              "\n",
              "    .dataframe thead th {\n",
              "        text-align: right;\n",
              "    }\n",
              "</style>\n",
              "<table border=\"1\" class=\"dataframe\">\n",
              "  <thead>\n",
              "    <tr style=\"text-align: right;\">\n",
              "      <th></th>\n",
              "      <th></th>\n",
              "      <th>close</th>\n",
              "      <th>volume</th>\n",
              "      <th>returns</th>\n",
              "      <th>target</th>\n",
              "    </tr>\n",
              "    <tr>\n",
              "      <th>Date</th>\n",
              "      <th></th>\n",
              "      <th></th>\n",
              "      <th></th>\n",
              "      <th></th>\n",
              "      <th></th>\n",
              "    </tr>\n",
              "  </thead>\n",
              "  <tbody>\n",
              "    <tr>\n",
              "      <th rowspan=\"8\" valign=\"top\">2009-10-13</th>\n",
              "      <th>AAPL</th>\n",
              "      <td>23.69</td>\n",
              "      <td>87005100.0</td>\n",
              "      <td>-0.004212</td>\n",
              "      <td>1.0</td>\n",
              "    </tr>\n",
              "    <tr>\n",
              "      <th>AMZN</th>\n",
              "      <td>94.83</td>\n",
              "      <td>4720000.0</td>\n",
              "      <td>0.013055</td>\n",
              "      <td>1.0</td>\n",
              "    </tr>\n",
              "    <tr>\n",
              "      <th>BAC</th>\n",
              "      <td>16.08</td>\n",
              "      <td>150388900.0</td>\n",
              "      <td>-0.012361</td>\n",
              "      <td>1.0</td>\n",
              "    </tr>\n",
              "    <tr>\n",
              "      <th>GOOGL</th>\n",
              "      <td>263.32</td>\n",
              "      <td>6068700.0</td>\n",
              "      <td>0.003957</td>\n",
              "      <td>1.0</td>\n",
              "    </tr>\n",
              "    <tr>\n",
              "      <th>JNJ</th>\n",
              "      <td>45.09</td>\n",
              "      <td>23501200.0</td>\n",
              "      <td>-0.024752</td>\n",
              "      <td>-1.0</td>\n",
              "    </tr>\n",
              "    <tr>\n",
              "      <th>NFLX</th>\n",
              "      <td>6.64</td>\n",
              "      <td>4514300.0</td>\n",
              "      <td>0.009077</td>\n",
              "      <td>1.0</td>\n",
              "    </tr>\n",
              "    <tr>\n",
              "      <th>SBUX</th>\n",
              "      <td>8.65</td>\n",
              "      <td>13518400.0</td>\n",
              "      <td>-0.009206</td>\n",
              "      <td>1.0</td>\n",
              "    </tr>\n",
              "    <tr>\n",
              "      <th>XOM</th>\n",
              "      <td>51.17</td>\n",
              "      <td>19333400.0</td>\n",
              "      <td>0.001760</td>\n",
              "      <td>1.0</td>\n",
              "    </tr>\n",
              "    <tr>\n",
              "      <th rowspan=\"8\" valign=\"top\">2009-10-14</th>\n",
              "      <th>AAPL</th>\n",
              "      <td>23.85</td>\n",
              "      <td>93877700.0</td>\n",
              "      <td>0.006731</td>\n",
              "      <td>-1.0</td>\n",
              "    </tr>\n",
              "    <tr>\n",
              "      <th>AMZN</th>\n",
              "      <td>97.46</td>\n",
              "      <td>5556800.0</td>\n",
              "      <td>0.027356</td>\n",
              "      <td>-1.0</td>\n",
              "    </tr>\n",
              "    <tr>\n",
              "      <th>BAC</th>\n",
              "      <td>16.79</td>\n",
              "      <td>229813800.0</td>\n",
              "      <td>0.043207</td>\n",
              "      <td>-1.0</td>\n",
              "    </tr>\n",
              "    <tr>\n",
              "      <th>GOOGL</th>\n",
              "      <td>267.93</td>\n",
              "      <td>6510200.0</td>\n",
              "      <td>0.017356</td>\n",
              "      <td>-1.0</td>\n",
              "    </tr>\n",
              "    <tr>\n",
              "      <th>JNJ</th>\n",
              "      <td>44.75</td>\n",
              "      <td>18951100.0</td>\n",
              "      <td>-0.007569</td>\n",
              "      <td>1.0</td>\n",
              "    </tr>\n",
              "    <tr>\n",
              "      <th>NFLX</th>\n",
              "      <td>6.87</td>\n",
              "      <td>7655200.0</td>\n",
              "      <td>0.034052</td>\n",
              "      <td>1.0</td>\n",
              "    </tr>\n",
              "    <tr>\n",
              "      <th>SBUX</th>\n",
              "      <td>8.80</td>\n",
              "      <td>14877000.0</td>\n",
              "      <td>0.017192</td>\n",
              "      <td>1.0</td>\n",
              "    </tr>\n",
              "    <tr>\n",
              "      <th>XOM</th>\n",
              "      <td>52.32</td>\n",
              "      <td>25285700.0</td>\n",
              "      <td>0.022225</td>\n",
              "      <td>1.0</td>\n",
              "    </tr>\n",
              "    <tr>\n",
              "      <th rowspan=\"4\" valign=\"top\">2009-10-15</th>\n",
              "      <th>AAPL</th>\n",
              "      <td>23.76</td>\n",
              "      <td>93389100.0</td>\n",
              "      <td>-0.003781</td>\n",
              "      <td>-1.0</td>\n",
              "    </tr>\n",
              "    <tr>\n",
              "      <th>AMZN</th>\n",
              "      <td>96.01</td>\n",
              "      <td>6242100.0</td>\n",
              "      <td>-0.014990</td>\n",
              "      <td>-1.0</td>\n",
              "    </tr>\n",
              "    <tr>\n",
              "      <th>BAC</th>\n",
              "      <td>16.34</td>\n",
              "      <td>212270200.0</td>\n",
              "      <td>-0.027167</td>\n",
              "      <td>-1.0</td>\n",
              "    </tr>\n",
              "    <tr>\n",
              "      <th>GOOGL</th>\n",
              "      <td>265.22</td>\n",
              "      <td>12188500.0</td>\n",
              "      <td>-0.010166</td>\n",
              "      <td>1.0</td>\n",
              "    </tr>\n",
              "  </tbody>\n",
              "</table>\n",
              "</div>"
            ],
            "text/plain": [
              "                   close       volume   returns  target\n",
              "Date                                                   \n",
              "2009-10-13 AAPL    23.69   87005100.0 -0.004212     1.0\n",
              "           AMZN    94.83    4720000.0  0.013055     1.0\n",
              "           BAC     16.08  150388900.0 -0.012361     1.0\n",
              "           GOOGL  263.32    6068700.0  0.003957     1.0\n",
              "           JNJ     45.09   23501200.0 -0.024752    -1.0\n",
              "           NFLX     6.64    4514300.0  0.009077     1.0\n",
              "           SBUX     8.65   13518400.0 -0.009206     1.0\n",
              "           XOM     51.17   19333400.0  0.001760     1.0\n",
              "2009-10-14 AAPL    23.85   93877700.0  0.006731    -1.0\n",
              "           AMZN    97.46    5556800.0  0.027356    -1.0\n",
              "           BAC     16.79  229813800.0  0.043207    -1.0\n",
              "           GOOGL  267.93    6510200.0  0.017356    -1.0\n",
              "           JNJ     44.75   18951100.0 -0.007569     1.0\n",
              "           NFLX     6.87    7655200.0  0.034052     1.0\n",
              "           SBUX     8.80   14877000.0  0.017192     1.0\n",
              "           XOM     52.32   25285700.0  0.022225     1.0\n",
              "2009-10-15 AAPL    23.76   93389100.0 -0.003781    -1.0\n",
              "           AMZN    96.01    6242100.0 -0.014990    -1.0\n",
              "           BAC     16.34  212270200.0 -0.027167    -1.0\n",
              "           GOOGL  265.22   12188500.0 -0.010166     1.0"
            ]
          },
          "metadata": {
            "tags": []
          }
        },
        {
          "output_type": "display_data",
          "data": {
            "text/html": [
              "<div>\n",
              "<style scoped>\n",
              "    .dataframe tbody tr th:only-of-type {\n",
              "        vertical-align: middle;\n",
              "    }\n",
              "\n",
              "    .dataframe tbody tr th {\n",
              "        vertical-align: top;\n",
              "    }\n",
              "\n",
              "    .dataframe thead th {\n",
              "        text-align: right;\n",
              "    }\n",
              "</style>\n",
              "<table border=\"1\" class=\"dataframe\">\n",
              "  <thead>\n",
              "    <tr style=\"text-align: right;\">\n",
              "      <th></th>\n",
              "      <th></th>\n",
              "      <th>close</th>\n",
              "      <th>volume</th>\n",
              "      <th>returns</th>\n",
              "      <th>target</th>\n",
              "    </tr>\n",
              "    <tr>\n",
              "      <th>Date</th>\n",
              "      <th></th>\n",
              "      <th></th>\n",
              "      <th></th>\n",
              "      <th></th>\n",
              "      <th></th>\n",
              "    </tr>\n",
              "  </thead>\n",
              "  <tbody>\n",
              "    <tr>\n",
              "      <th rowspan=\"5\" valign=\"top\">2019-10-04</th>\n",
              "      <th>GOOGL</th>\n",
              "      <td>1210.96</td>\n",
              "      <td>1214100.0</td>\n",
              "      <td>0.017939</td>\n",
              "      <td>-1.0</td>\n",
              "    </tr>\n",
              "    <tr>\n",
              "      <th>JNJ</th>\n",
              "      <td>133.66</td>\n",
              "      <td>7233300.0</td>\n",
              "      <td>0.018653</td>\n",
              "      <td>-1.0</td>\n",
              "    </tr>\n",
              "    <tr>\n",
              "      <th>NFLX</th>\n",
              "      <td>272.79</td>\n",
              "      <td>9890400.0</td>\n",
              "      <td>0.017156</td>\n",
              "      <td>1.0</td>\n",
              "    </tr>\n",
              "    <tr>\n",
              "      <th>SBUX</th>\n",
              "      <td>85.92</td>\n",
              "      <td>5869000.0</td>\n",
              "      <td>0.014655</td>\n",
              "      <td>0.0</td>\n",
              "    </tr>\n",
              "    <tr>\n",
              "      <th>XOM</th>\n",
              "      <td>68.97</td>\n",
              "      <td>10534800.0</td>\n",
              "      <td>0.014458</td>\n",
              "      <td>-1.0</td>\n",
              "    </tr>\n",
              "  </tbody>\n",
              "</table>\n",
              "</div>"
            ],
            "text/plain": [
              "                    close      volume   returns  target\n",
              "Date                                                   \n",
              "2019-10-04 GOOGL  1210.96   1214100.0  0.017939    -1.0\n",
              "           JNJ     133.66   7233300.0  0.018653    -1.0\n",
              "           NFLX    272.79   9890400.0  0.017156     1.0\n",
              "           SBUX     85.92   5869000.0  0.014655     0.0\n",
              "           XOM      68.97  10534800.0  0.014458    -1.0"
            ]
          },
          "metadata": {
            "tags": []
          }
        },
        {
          "output_type": "display_data",
          "data": {
            "text/html": [
              "<div>\n",
              "<style scoped>\n",
              "    .dataframe tbody tr th:only-of-type {\n",
              "        vertical-align: middle;\n",
              "    }\n",
              "\n",
              "    .dataframe tbody tr th {\n",
              "        vertical-align: top;\n",
              "    }\n",
              "\n",
              "    .dataframe thead th {\n",
              "        text-align: right;\n",
              "    }\n",
              "</style>\n",
              "<table border=\"1\" class=\"dataframe\">\n",
              "  <thead>\n",
              "    <tr style=\"text-align: right;\">\n",
              "      <th></th>\n",
              "      <th></th>\n",
              "      <th>close</th>\n",
              "      <th>volume</th>\n",
              "      <th>returns</th>\n",
              "      <th>target</th>\n",
              "    </tr>\n",
              "    <tr>\n",
              "      <th>Date</th>\n",
              "      <th></th>\n",
              "      <th></th>\n",
              "      <th></th>\n",
              "      <th></th>\n",
              "      <th></th>\n",
              "    </tr>\n",
              "  </thead>\n",
              "  <tbody>\n",
              "    <tr>\n",
              "      <th rowspan=\"10\" valign=\"top\">2019-10-07</th>\n",
              "      <th>AAPL</th>\n",
              "      <td>227.06</td>\n",
              "      <td>30576500.0</td>\n",
              "      <td>0.000220</td>\n",
              "      <td>NaN</td>\n",
              "    </tr>\n",
              "    <tr>\n",
              "      <th>AMZN</th>\n",
              "      <td>1732.66</td>\n",
              "      <td>2154700.0</td>\n",
              "      <td>-0.004026</td>\n",
              "      <td>NaN</td>\n",
              "    </tr>\n",
              "    <tr>\n",
              "      <th>BAC</th>\n",
              "      <td>28.31</td>\n",
              "      <td>36742400.0</td>\n",
              "      <td>-0.002117</td>\n",
              "      <td>NaN</td>\n",
              "    </tr>\n",
              "    <tr>\n",
              "      <th>FB</th>\n",
              "      <td>179.68</td>\n",
              "      <td>9178300.0</td>\n",
              "      <td>-0.004276</td>\n",
              "      <td>NaN</td>\n",
              "    </tr>\n",
              "    <tr>\n",
              "      <th>GM</th>\n",
              "      <td>34.75</td>\n",
              "      <td>6640500.0</td>\n",
              "      <td>-0.004594</td>\n",
              "      <td>NaN</td>\n",
              "    </tr>\n",
              "    <tr>\n",
              "      <th>GOOGL</th>\n",
              "      <td>1208.25</td>\n",
              "      <td>852000.0</td>\n",
              "      <td>-0.002240</td>\n",
              "      <td>NaN</td>\n",
              "    </tr>\n",
              "    <tr>\n",
              "      <th>JNJ</th>\n",
              "      <td>133.16</td>\n",
              "      <td>5427200.0</td>\n",
              "      <td>-0.003748</td>\n",
              "      <td>NaN</td>\n",
              "    </tr>\n",
              "    <tr>\n",
              "      <th>NFLX</th>\n",
              "      <td>274.46</td>\n",
              "      <td>6525600.0</td>\n",
              "      <td>0.006103</td>\n",
              "      <td>NaN</td>\n",
              "    </tr>\n",
              "    <tr>\n",
              "      <th>SBUX</th>\n",
              "      <td>85.85</td>\n",
              "      <td>4382900.0</td>\n",
              "      <td>-0.000815</td>\n",
              "      <td>NaN</td>\n",
              "    </tr>\n",
              "    <tr>\n",
              "      <th>XOM</th>\n",
              "      <td>68.02</td>\n",
              "      <td>10993000.0</td>\n",
              "      <td>-0.013870</td>\n",
              "      <td>NaN</td>\n",
              "    </tr>\n",
              "  </tbody>\n",
              "</table>\n",
              "</div>"
            ],
            "text/plain": [
              "                    close      volume   returns  target\n",
              "Date                                                   \n",
              "2019-10-07 AAPL    227.06  30576500.0  0.000220     NaN\n",
              "           AMZN   1732.66   2154700.0 -0.004026     NaN\n",
              "           BAC      28.31  36742400.0 -0.002117     NaN\n",
              "           FB      179.68   9178300.0 -0.004276     NaN\n",
              "           GM       34.75   6640500.0 -0.004594     NaN\n",
              "           GOOGL  1208.25    852000.0 -0.002240     NaN\n",
              "           JNJ     133.16   5427200.0 -0.003748     NaN\n",
              "           NFLX    274.46   6525600.0  0.006103     NaN\n",
              "           SBUX     85.85   4382900.0 -0.000815     NaN\n",
              "           XOM      68.02  10993000.0 -0.013870     NaN"
            ]
          },
          "metadata": {
            "tags": []
          }
        }
      ]
    },
    {
      "cell_type": "markdown",
      "metadata": {
        "id": "fADHPJVg4XpP",
        "colab_type": "text"
      },
      "source": [
        "## Feature Engineering \n",
        "Leaving this section blank at the moment. Will come back at a later time. "
      ]
    },
    {
      "cell_type": "code",
      "metadata": {
        "id": "7Vs3FeQ5CGBo",
        "colab_type": "code",
        "colab": {}
      },
      "source": [
        ""
      ],
      "execution_count": 0,
      "outputs": []
    },
    {
      "cell_type": "markdown",
      "metadata": {
        "id": "cET3Gtd47bcf",
        "colab_type": "text"
      },
      "source": [
        "## Train Test Split \n",
        "Split the data into testing and training sets.  \n",
        "In production, there's going to be only re-training of the model that we have  \n",
        "chosen with the specified hyper-parameters. "
      ]
    },
    {
      "cell_type": "code",
      "metadata": {
        "id": "p0eNFIrW-Uao",
        "colab_type": "code",
        "colab": {}
      },
      "source": [
        "def train_test_split(dataset, features, target, train_size, test_size):\n",
        "    \"\"\"\n",
        "    Generate the train and test dataset.\n",
        "\n",
        "    Parameters\n",
        "    ----------\n",
        "    dataset : DataFrame\n",
        "        All the samples including target\n",
        "    features : List\n",
        "        List of the names of columns that are features\n",
        "    target : String\n",
        "        Name of column that is the target (in our case, 'target')\n",
        "    train_size : float\n",
        "        The proportion of the data used for the training dataset\n",
        "    test_size : float\n",
        "        The proportion of the data used for the test dataset\n",
        "\n",
        "    Returns\n",
        "    -------\n",
        "    x_train : DataFrame\n",
        "        The train input samples\n",
        "    x_test : DataFrame\n",
        "        The test input samples\n",
        "    y_train : Pandas Series\n",
        "        The train target values\n",
        "    y_test : Pandas Series\n",
        "        The test target values\n",
        "    \"\"\"\n",
        "    # Data Sanity check \n",
        "    assert train_size >= 0 and train_size <= 1.0, 'Train size out of bounds!'\n",
        "    assert test_size >= 0 and test_size <= 1.0, 'Test size out of bounds!'\n",
        "    assert train_size + test_size == 1.0, 'Train + Test should be equal to 1!'\n",
        "    \n",
        "    # Debug Flag \n",
        "    _LOCAL_DEBUG_ = True \n",
        "    \n",
        "    # Extract the x and y from the dataset\n",
        "    all_x = dataset[features]\n",
        "    all_y = dataset[target]\n",
        "    if _GLOBAL_DEBUG_ and _LOCAL_DEBUG_:\n",
        "        print(all_x.head())\n",
        "        print(all_y.head())\n",
        "        print('dataset.shape ', dataset.shape)\n",
        "\n",
        "    # Get the number of rows in df and no of elements in the pandas series \n",
        "    # NOTE - Both are multi-indexed\n",
        "    len_x = len(all_x.index.levels[0])\n",
        "    len_y = len(all_y.index.levels[0])\n",
        "    if _GLOBAL_DEBUG_ and _LOCAL_DEBUG_:\n",
        "        print('Len x ', len_x)\n",
        "        print('Len y ', len_y)\n",
        "    \n",
        "    # Some fancy calculations here for x\n",
        "    x_train = all_x.loc[all_x.index.levels[0]\\\n",
        "                        [:int(len_x*train_size)].astype(str).tolist()]\n",
        "    x_test = all_x.loc[all_x.index.levels[0]\\\n",
        "                       [int(len_x*train_size):int(len_x*train_size) + int(len_x*test_size)]\\\n",
        "                       .astype(str).tolist()]\n",
        "    if _GLOBAL_DEBUG_ and _LOCAL_DEBUG_:\n",
        "        print('x_train.shape ', x_train.shape)\n",
        "        print('x_test.shape ', x_test.shape)\n",
        "\n",
        "    # Some fancy calculations here for y as well\n",
        "    y_train = all_y.loc[all_y.index.levels[0]\\\n",
        "                        [:int(len_y*train_size)].astype(str).tolist()]\n",
        "    y_test = all_y.loc[all_y.index.levels[0]\\\n",
        "                       [int(len_y*train_size):int(len_y*train_size) + int(len_y*test_size)]\\\n",
        "                       .astype(str).tolist()]\n",
        "    if _GLOBAL_DEBUG_ and _LOCAL_DEBUG_:\n",
        "        print('y_train.shape ', y_train.shape)\n",
        "        print('y_test.shape ', y_test.shape)\n",
        " \n",
        "    return x_train, x_test, y_train, y_test "
      ],
      "execution_count": 0,
      "outputs": []
    },
    {
      "cell_type": "code",
      "metadata": {
        "id": "2rrKKH3lKfN6",
        "colab_type": "code",
        "colab": {
          "base_uri": "https://localhost:8080/",
          "height": 381
        },
        "outputId": "8d12e4ff-8835-4529-cd36-8a572dc621c8"
      },
      "source": [
        "# In our dataset all the columns except for the 'target' column are features\n",
        "# Temporarily drop the 'target' and extract the features  \n",
        "features = dataset.drop(['target'], axis=1).columns.values.tolist()\n",
        "\n",
        "# Get the train and test sets \n",
        "X_train, X_test, y_train, y_test = train_test_split(dataset=dataset,\\\n",
        "                                                    features=features,\\\n",
        "                                                    target='target',\\\n",
        "                                                    train_size=0.9,\\\n",
        "                                                    test_size=0.1)"
      ],
      "execution_count": 21,
      "outputs": [
        {
          "output_type": "stream",
          "text": [
            "                   close       volume   returns\n",
            "Date                                           \n",
            "2009-10-13 AAPL    23.69   87005100.0 -0.004212\n",
            "           AMZN    94.83    4720000.0  0.013055\n",
            "           BAC     16.08  150388900.0 -0.012361\n",
            "           GOOGL  263.32    6068700.0  0.003957\n",
            "           JNJ     45.09   23501200.0 -0.024752\n",
            "Date             \n",
            "2009-10-13  AAPL     1.0\n",
            "            AMZN     1.0\n",
            "            BAC      1.0\n",
            "            GOOGL    1.0\n",
            "            JNJ     -1.0\n",
            "Name: target, dtype: float64\n",
            "dataset.shape  (24185, 4)\n",
            "Len x  2514\n",
            "Len y  2514\n",
            "x_train.shape  (21675, 3)\n",
            "x_test.shape  (2510, 3)\n",
            "y_train.shape  (21675,)\n",
            "y_test.shape  (2510,)\n"
          ],
          "name": "stdout"
        }
      ]
    },
    {
      "cell_type": "markdown",
      "metadata": {
        "id": "M1MpA89NIlXG",
        "colab_type": "text"
      },
      "source": [
        "## Hyperparameter Search\n",
        "We have the dataset in our hand with train and test splits.  \n",
        "Time to train our _Random Forest Classifier_, and look for the best set of  \n",
        "hyperparameters.  \n",
        "\n",
        "1. Create a plotting function to help in evaluating the performance of RFCs  \n",
        "2. Display the ranked feature importances \n",
        "3. Declare a hyperparameter _'grid'_ for the various RFCs to train on\n",
        "4. Train the RFCs \n",
        "5. Based on performance, choose the best set of hyperparameters. "
      ]
    },
    {
      "cell_type": "code",
      "metadata": {
        "id": "VNBC0I47LHG1",
        "colab_type": "code",
        "colab": {}
      },
      "source": [
        "def plot(xs, ys, labels, title='', x_label='', y_label=''):\n",
        "    \"\"\"\n",
        "    Generate a plot of xs vs ys.\n",
        "\n",
        "    Parameters\n",
        "    ----------\n",
        "    xs : List\n",
        "        List of x-axis values  \n",
        "    ys : List\n",
        "        List of y-axis values  \n",
        "    labels : List\n",
        "        List of strings containing the name of legends\n",
        "    title : String\n",
        "        Plot Title\n",
        "    x_label : String\n",
        "        Name of the x-axis\n",
        "    y_label : String\n",
        "        Name of the y-axis\n",
        "\n",
        "    Returns\n",
        "    -------\n",
        "    None. Just plots the plot.\n",
        "    \"\"\"\n",
        "    # Set the figure size\n",
        "    plt.rcParams['figure.figsize'] = [12, 6]\n",
        "\n",
        "    # Build the plots\n",
        "    for x, y, label in zip(xs, ys, labels):\n",
        "        plt.ylim((0.4, 0.7))\n",
        "        plt.plot(x, y, label=label)\n",
        "\n",
        "    # Set the titles and lables \n",
        "    plt.title(title)\n",
        "    plt.xlabel(x_label)\n",
        "    plt.ylabel(y_label)\n",
        "\n",
        "    # Align the legends and show the plot \n",
        "    plt.legend(bbox_to_anchor=(1.04, 1), borderaxespad=0)\n",
        "    plt.show()\n",
        "\n",
        "    return None"
      ],
      "execution_count": 0,
      "outputs": []
    },
    {
      "cell_type": "code",
      "metadata": {
        "id": "o905aKn-McnA",
        "colab_type": "code",
        "colab": {}
      },
      "source": [
        "def rank_features_by_importance(importances, feature_names):\n",
        "    \"\"\"\n",
        "    Ranks and Pretty prints the feature importances as \n",
        "    evaluated by the Random Forest Classifier. \n",
        "\n",
        "    Parameters\n",
        "    ----------\n",
        "    importances : ndarray\n",
        "        A numpy array containing feature importance values  \n",
        "    feature_names : List\n",
        "        A list of strings containing the names of features\n",
        "\n",
        "    Returns\n",
        "    -------\n",
        "    None. Just ranks and pretty prints the features along \n",
        "    with their importance. \n",
        "    \"\"\"\n",
        "    # Get the sorted INDEX of the importances array \n",
        "    indices = np.argsort(importances)[::-1]\n",
        "    # Use this parameter to align the print output\n",
        "    max_feature_name_length = max([len(feature) for feature in feature_names])\n",
        "\n",
        "    # Pretty Print the ranked features and their respective importances \n",
        "    for x_train_i in range(len(importances)):\n",
        "        print('{number:>2}. {feature: <{padding}} ({importance})'.format(\n",
        "            number=x_train_i + 1,\n",
        "            padding=max_feature_name_length,\n",
        "            feature=feature_names[indices[x_train_i]],\n",
        "            importance=importances[indices[x_train_i]]))\n",
        "\n",
        "    return None"
      ],
      "execution_count": 0,
      "outputs": []
    },
    {
      "cell_type": "code",
      "metadata": {
        "id": "VLUsSjAmOfR9",
        "colab_type": "code",
        "colab": {}
      },
      "source": [
        "# Hyperparameters \n",
        "# This is to get consistent results between each run.\n",
        "clf_random_state = 0\n",
        "\n",
        "n_days = 5\n",
        "n_stocks = len(ticker_list)\n",
        "\n",
        "clf_parameters = {\n",
        "    'criterion': 'entropy',\n",
        "    'min_samples_leaf': n_stocks * n_days,\n",
        "    'oob_score': True,\n",
        "    'n_jobs': -1,\n",
        "    'random_state': clf_random_state}\n",
        "n_trees_l = [5, 10, 25, 50, 75, 100]"
      ],
      "execution_count": 0,
      "outputs": []
    },
    {
      "cell_type": "code",
      "metadata": {
        "id": "V86wQtriJ0LB",
        "colab_type": "code",
        "outputId": "20bbcb08-43ec-4a96-f688-260875bd333c",
        "colab": {
          "base_uri": "https://localhost:8080/",
          "height": 35
        }
      },
      "source": [
        "# %%timeit -n 1 -r 1\n",
        "# Train the Classifier \n",
        "train_score = []\n",
        "test_score = []\n",
        "feature_importances = []\n",
        "\n",
        "for n_trees in tqdm(n_trees_l, desc='Training Models', unit='Model'):\n",
        "    # Train \n",
        "    clf = RandomForestClassifier(n_trees, **clf_parameters)\n",
        "    clf.fit(X_train, y_train)\n",
        "    # Performance Parameters \n",
        "    train_score.append(clf.score(X_train, y_train.values))\n",
        "    test_score.append(clf.score(X_test, y_test.values))\n",
        "    feature_importances.append(clf.feature_importances_)"
      ],
      "execution_count": 25,
      "outputs": [
        {
          "output_type": "stream",
          "text": [
            "Training Models: 100%|██████████| 6/6 [00:11<00:00,  2.32s/Model]\n"
          ],
          "name": "stderr"
        }
      ]
    },
    {
      "cell_type": "code",
      "metadata": {
        "id": "ZBguIFTONDUu",
        "colab_type": "code",
        "outputId": "4c59387e-1d1a-4744-9bec-e4b38c35df58",
        "colab": {
          "base_uri": "https://localhost:8080/",
          "height": 491
        }
      },
      "source": [
        "# The most important features \n",
        "print('Features Ranked by Average Importance:\\n')\n",
        "rank_features_by_importance(np.average(feature_importances, axis=0), features)\n",
        "\n",
        "# Visualize the performance of the various classifiers \n",
        "plot([n_trees_l]*3,\n",
        "    [train_score, test_score],\n",
        "    ['train', 'test'],\n",
        "    'Random Forrest Accuracy',\n",
        "    'Number of Trees')"
      ],
      "execution_count": 26,
      "outputs": [
        {
          "output_type": "stream",
          "text": [
            "Features Ranked by Average Importance:\n",
            "\n",
            " 1. returns (0.3372281142895472)\n",
            " 2. close   (0.3370872148344983)\n",
            " 3. volume  (0.3256846708759545)\n"
          ],
          "name": "stdout"
        },
        {
          "output_type": "display_data",
          "data": {
            "image/png": "[encoded data removed]",
            "text/plain": [
              "<Figure size 864x432 with 1 Axes>"
            ]
          },
          "metadata": {
            "tags": []
          }
        }
      ]
    },
    {
      "cell_type": "markdown",
      "metadata": {
        "id": "yKLfKrAlFvf-",
        "colab_type": "text"
      },
      "source": [
        "## Train the Best Model \n",
        "From the above set of Random Forests Classifiers, we can observe that the RFC  \n",
        "with 25 trees has performed the best.  \n",
        "Notice how the performance on the Testing Set _bumps up_ for the RFC with 25  \n",
        "tress, and then continues going down for RFCs having higher number of trees.  \n",
        "Let's train this model (again) and use it for predictions.  \n",
        "<br/>\n",
        "_**However, there's not going to be any test set this time. We will use all  \n",
        "the data to train our model and make a prediction for the next trading day.**_  "
      ]
    },
    {
      "cell_type": "code",
      "metadata": {
        "id": "p9PW6wHS6loz",
        "colab_type": "code",
        "colab": {
          "base_uri": "https://localhost:8080/",
          "height": 381
        },
        "outputId": "38212e67-d4e7-4401-98d8-74ac8e8002d7"
      },
      "source": [
        "# Get the train and test sets \n",
        "X_train, X_test, y_train, y_test = train_test_split(dataset=dataset,\\\n",
        "                                                    features=features,\\\n",
        "                                                    target='target',\\\n",
        "                                                    train_size=1.0,\\\n",
        "                                                    test_size=0.0)"
      ],
      "execution_count": 27,
      "outputs": [
        {
          "output_type": "stream",
          "text": [
            "                   close       volume   returns\n",
            "Date                                           \n",
            "2009-10-13 AAPL    23.69   87005100.0 -0.004212\n",
            "           AMZN    94.83    4720000.0  0.013055\n",
            "           BAC     16.08  150388900.0 -0.012361\n",
            "           GOOGL  263.32    6068700.0  0.003957\n",
            "           JNJ     45.09   23501200.0 -0.024752\n",
            "Date             \n",
            "2009-10-13  AAPL     1.0\n",
            "            AMZN     1.0\n",
            "            BAC      1.0\n",
            "            GOOGL    1.0\n",
            "            JNJ     -1.0\n",
            "Name: target, dtype: float64\n",
            "dataset.shape  (24185, 4)\n",
            "Len x  2514\n",
            "Len y  2514\n",
            "x_train.shape  (24185, 3)\n",
            "x_test.shape  (0, 3)\n",
            "y_train.shape  (24185,)\n",
            "y_test.shape  (0,)\n"
          ],
          "name": "stdout"
        }
      ]
    },
    {
      "cell_type": "code",
      "metadata": {
        "id": "WAhMaPGfIPQu",
        "colab_type": "code",
        "outputId": "6ecc4d5e-7c2e-45c8-8ccd-823eda2aa6c3",
        "colab": {
          "base_uri": "https://localhost:8080/",
          "height": 35
        }
      },
      "source": [
        "# Train the Random Forest Classifier on this data \n",
        "# We have selected n_trees to be 25\n",
        "n_trees = 25\n",
        "clf = RandomForestClassifier(n_trees, **clf_parameters)\n",
        "clf.fit(X_train, y_train)\n",
        "# Get the Training score (just for us)\n",
        "print(f'Classifier Accuracy: {clf.score(X_train, y_train.values):0.3f}')"
      ],
      "execution_count": 28,
      "outputs": [
        {
          "output_type": "stream",
          "text": [
            "Classifier Accuracy: 0.550\n"
          ],
          "name": "stdout"
        }
      ]
    },
    {
      "cell_type": "markdown",
      "metadata": {
        "id": "tc9g_2H1c6Pn",
        "colab_type": "text"
      },
      "source": [
        "## Make the Prediction\n",
        "Now that we have trained our model with the best set of hyperparameters, time  \n",
        "to make the prediction for the next date (that is tomorrow's close).  \n",
        "The output from this prediction will be shown to the user. "
      ]
    },
    {
      "cell_type": "code",
      "metadata": {
        "id": "RQsSA6Hqda78",
        "colab_type": "code",
        "colab": {}
      },
      "source": [
        "def make_prediction(pred_data, features, rfc_classifier):\n",
        "    \"\"\"\n",
        "    Makes a price prediction on the stocks as selected by the user. \n",
        "    \n",
        "    Parameters\n",
        "    ----------\n",
        "    pred_data : Dataframe\n",
        "        This dataframe contains only 1 date, today's date (or yesterday's if \n",
        "        the markets haven't close yet). The data on this date will be used to \n",
        "        make a prediction about the closing prices for next day/tomorrow.\n",
        "    feature : List\n",
        "        List of features present in pred_data. It also has a 'target' column, \n",
        "        we wont be using it. \n",
        "    rfc_classifier : Random Forest Classifier Object \n",
        "        Trained Random forest classifier with the best hyperparameters  \n",
        "\n",
        "    Returns\n",
        "    -------\n",
        "    pred_list: List \n",
        "        List containing tuples in the following format, \n",
        "        [(Stock1, Pred1), (Stock2, Pred2),........]\n",
        "    \"\"\"\n",
        "    # Make the prediction \n",
        "    prediction = rfc_classifier.predict(pred_data[features])\n",
        "    if _GLOBAL_DEBUG_:\n",
        "        print(type(prediction))\n",
        "        print(prediction)\n",
        "\n",
        "    # Human Understandable Predictions \n",
        "    pred_text = []\n",
        "    for i, pred in enumerate(prediction):\n",
        "        if pred == 1:\n",
        "            pred_text.append('BUY')\n",
        "        elif pred == -1:\n",
        "            pred_text.append('SELL')\n",
        "        else: \n",
        "            pred_text.append('HOLD')\n",
        "    if _GLOBAL_DEBUG_:\n",
        "        print(type(pred_text))\n",
        "        print(pred_text)\n",
        "\n",
        "    # Create the 'Prediction List' \n",
        "    pred_list = [(stock, pred) for stock, pred in\\\n",
        "                 zip(pred_data.index.levels[1].values.tolist(), pred_text)]\n",
        "\n",
        "    return pred_list"
      ],
      "execution_count": 0,
      "outputs": []
    },
    {
      "cell_type": "code",
      "metadata": {
        "id": "StmaXuJ0h8WR",
        "colab_type": "code",
        "colab": {
          "base_uri": "https://localhost:8080/",
          "height": 87
        },
        "outputId": "38c7afd3-d838-4b07-876f-4a3a688f3f3d"
      },
      "source": [
        "final_prediction = make_prediction(pred_data=pred_data, features=features,\\\n",
        "                                   rfc_classifier=clf)"
      ],
      "execution_count": 36,
      "outputs": [
        {
          "output_type": "stream",
          "text": [
            "<class 'numpy.ndarray'>\n",
            "[ 1.  1. -1.  1.  1.  1.  1.  1.  1.  1.]\n",
            "<class 'list'>\n",
            "['BUY', 'BUY', 'SELL', 'BUY', 'BUY', 'BUY', 'BUY', 'BUY', 'BUY', 'BUY']\n"
          ],
          "name": "stdout"
        }
      ]
    },
    {
      "cell_type": "code",
      "metadata": {
        "id": "ygfhh3WjiY2f",
        "colab_type": "code",
        "outputId": "3158e4ef-b90d-4766-c3ec-89ddc567653e",
        "colab": {
          "base_uri": "https://localhost:8080/",
          "height": 191
        }
      },
      "source": [
        "final_prediction"
      ],
      "execution_count": 37,
      "outputs": [
        {
          "output_type": "execute_result",
          "data": {
            "text/plain": [
              "[('AAPL', 'BUY'),\n",
              " ('AMZN', 'BUY'),\n",
              " ('BAC', 'SELL'),\n",
              " ('FB', 'BUY'),\n",
              " ('GM', 'BUY'),\n",
              " ('GOOGL', 'BUY'),\n",
              " ('JNJ', 'BUY'),\n",
              " ('NFLX', 'BUY'),\n",
              " ('SBUX', 'BUY'),\n",
              " ('XOM', 'BUY')]"
            ]
          },
          "metadata": {
            "tags": []
          },
          "execution_count": 37
        }
      ]
    }
  ]
}